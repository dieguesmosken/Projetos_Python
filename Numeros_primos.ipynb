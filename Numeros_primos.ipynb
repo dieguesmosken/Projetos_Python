{
  "nbformat": 4,
  "nbformat_minor": 0,
  "metadata": {
    "colab": {
      "provenance": [],
      "authorship_tag": "ABX9TyPlAcaWueXCGCFghAFQ3AnY",
      "include_colab_link": true
    },
    "kernelspec": {
      "name": "python3",
      "display_name": "Python 3"
    },
    "language_info": {
      "name": "python"
    }
  },
  "cells": [
    {
      "cell_type": "markdown",
      "metadata": {
        "id": "view-in-github",
        "colab_type": "text"
      },
      "source": [
        "<a href=\"https://colab.research.google.com/github/dieguesmosken/Projetos_Python/blob/aula-python/Numeros_primos.ipynb\" target=\"_parent\"><img src=\"https://colab.research.google.com/assets/colab-badge.svg\" alt=\"Open In Colab\"/></a>"
      ]
    },
    {
      "cell_type": "code",
      "execution_count": 1,
      "metadata": {
        "colab": {
          "base_uri": "https://localhost:8080/"
        },
        "id": "u_v_T36Sku02",
        "outputId": "03df29d3-0104-4d7b-af21-f541311ac474"
      },
      "outputs": [
        {
          "output_type": "stream",
          "name": "stdout",
          "text": [
            "Digite um numero para saber se é primo: 100\n",
            "O numero não é primo pois é divisivel por: \n",
            " [1, 2, 4, 5, 10, 20, 25, 50, 100]\n"
          ]
        }
      ],
      "source": [
        "# numeros primos, por t.me/dieguesmosken\n",
        "numero = int(input(\"Digite um numero para saber se é primo: \"))\n",
        "divisores = []\n",
        "for i in range(1, numero+1):\n",
        "    if numero % i == 0:\n",
        "        divisores.append(i)\n",
        "if len(divisores) == 2:\n",
        "    print (\"O numero é primo divisivel por \",divisores)\n",
        "else:\n",
        "    print (\"O numero não é primo pois é divisivel por: \\n\",divisores)"
      ]
    }
  ]
}