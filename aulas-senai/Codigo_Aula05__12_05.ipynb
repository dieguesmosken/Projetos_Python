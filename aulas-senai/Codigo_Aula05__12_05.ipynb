{
  "nbformat": 4,
  "nbformat_minor": 0,
  "metadata": {
    "colab": {
      "provenance": [],
      "authorship_tag": "ABX9TyNZqyoXHdlBF02mULmrE+GA",
      "include_colab_link": true
    },
    "kernelspec": {
      "name": "python3",
      "display_name": "Python 3"
    },
    "language_info": {
      "name": "python"
    }
  },
  "cells": [
    {
      "cell_type": "markdown",
      "metadata": {
        "id": "view-in-github",
        "colab_type": "text"
      },
      "source": [
        "<a href=\"https://colab.research.google.com/github/dieguesmosken/Projetos_Python/blob/aula-python/Codigo_Aula05__12_05.ipynb\" target=\"_parent\"><img src=\"https://colab.research.google.com/assets/colab-badge.svg\" alt=\"Open In Colab\"/></a>"
      ]
    },
    {
      "cell_type": "markdown",
      "source": [
        "### dia 12/05\n",
        "laços de repetição\n",
        "\n",
        "---"
      ],
      "metadata": {
        "id": "1sp1-e0vELS0"
      }
    },
    {
      "cell_type": "code",
      "source": [
        "listanum = [1,2,3,4,5,6,7,8,9,10,11,12,13,14,15]\n",
        "#somatorio\n",
        "soma = sum(listanum)\n",
        "#maximo e minimo\n",
        "máximo = max(listanum)\n",
        "mínimo = min(listanum)\n",
        "print(f'A soma da lista é {soma}')\n",
        "print(f'''O maior valor da lista é {máximo}\n",
        "e o menor valor da lista é {mínimo}''')\n",
        "'''\n",
        "for x in range(7):\n",
        "    listanum.append(x+1)\n",
        "'''\n",
        "#ampliar a lista\n",
        "listanum += [1,2,3,4,5,6,7]\n",
        "print(listanum)\n",
        "#deletar o 1º,3º e 7º elemento\n",
        "listanum.remove(listanum[6])\n",
        "listanum.pop(2)\n",
        "listanum.pop(0)\n",
        "\n",
        "print(listanum)"
      ],
      "metadata": {
        "colab": {
          "base_uri": "https://localhost:8080/"
        },
        "id": "edn1kuiwZVP7",
        "outputId": "8b47270a-4bf6-4f6a-c534-f0e63543925f"
      },
      "execution_count": 7,
      "outputs": [
        {
          "output_type": "stream",
          "name": "stdout",
          "text": [
            "A soma da lista é 120\n",
            "O maior valor da lista é 15\n",
            "e o menor valor da lista é 1\n",
            "[1, 2, 3, 4, 5, 6, 7, 8, 9, 10, 11, 12, 13, 14, 15, 1, 2, 3, 4, 5, 6, 7]\n",
            "[2, 4, 5, 6, 8, 9, 10, 11, 12, 13, 14, 15, 1, 2, 3, 4, 5, 6, 7]\n"
          ]
        }
      ]
    },
    {
      "cell_type": "code",
      "source": [
        "#laço for simples\n",
        "for i in range(100):\n",
        "    print(i)\n"
      ],
      "metadata": {
        "colab": {
          "base_uri": "https://localhost:8080/"
        },
        "id": "5XJ0XPmzI4T9",
        "outputId": "def4b34f-f1bb-493a-f3db-5b3af36e6f23"
      },
      "execution_count": 10,
      "outputs": [
        {
          "output_type": "stream",
          "name": "stdout",
          "text": [
            "15\n",
            "16\n",
            "17\n",
            "18\n",
            "19\n",
            "20\n",
            "21\n",
            "22\n",
            "23\n",
            "24\n"
          ]
        }
      ]
    },
    {
      "cell_type": "code",
      "source": [
        "#laço for de 10 até 20\n",
        "for i in range(10, 20):\n",
        "    print(i)"
      ],
      "metadata": {
        "id": "BYvs4JWPJ1QU"
      },
      "execution_count": null,
      "outputs": []
    },
    {
      "cell_type": "code",
      "source": [
        "#laço for de 0 até 20 de 5 em 5\n",
        "#de 10 até 20\n",
        "for i in range(0, 21, 5):\n",
        "    print(i)"
      ],
      "metadata": {
        "colab": {
          "base_uri": "https://localhost:8080/"
        },
        "id": "73d_HEvcJ4VU",
        "outputId": "fcf34fc0-6927-4c3f-d1b3-8a40d1ca7861"
      },
      "execution_count": 13,
      "outputs": [
        {
          "output_type": "stream",
          "name": "stdout",
          "text": [
            "0\n",
            "5\n",
            "10\n",
            "15\n",
            "20\n"
          ]
        }
      ]
    },
    {
      "cell_type": "markdown",
      "source": [
        "tabuada"
      ],
      "metadata": {
        "id": "X4GqrI0cKL3t"
      }
    },
    {
      "cell_type": "code",
      "source": [
        "#código tabuada\n",
        "valor = int(input(\"digite o numero da tabuada \"))\n",
        "#exemplo tabuada do 9\n",
        "'''\n",
        "9 x 1\n",
        "9 x 2\n",
        "e assim por diante\n",
        "'''\n",
        "print(f\"Tabuda do: {valor}\")\n",
        "for indice in range(0, 11):\n",
        "    print(f\"{valor} X {indice} = {valor*indice}\")"
      ],
      "metadata": {
        "colab": {
          "base_uri": "https://localhost:8080/"
        },
        "id": "iwOYffDxKLiV",
        "outputId": "73fa9f4f-0398-4801-bbbf-8a71bac8bbb7"
      },
      "execution_count": 19,
      "outputs": [
        {
          "output_type": "stream",
          "name": "stdout",
          "text": [
            "digite o numero da tabuada7\n",
            "Tabuda do: 7\n",
            "7 X 0 = 0\n",
            "7 X 1 = 7\n",
            "7 X 2 = 14\n",
            "7 X 3 = 21\n",
            "7 X 4 = 28\n",
            "7 X 5 = 35\n",
            "7 X 6 = 42\n",
            "7 X 7 = 49\n",
            "7 X 8 = 56\n",
            "7 X 9 = 63\n",
            "7 X 10 = 70\n"
          ]
        }
      ]
    },
    {
      "cell_type": "code",
      "source": [
        "#desafio: identifiquem para qualquer valor se ele é numero primo ou n\n",
        "np = int(input(\"Digite um numero: \"))\n",
        "if np == 0 or np == 1:\n",
        "    print(f\"{np} não é primo\")\n",
        "else:\n",
        "    if np % 2 == 0 or np % 3 == 0 or np % 5 == 0 or np % 7 == 0 or np % 11 == 0:\n",
        "        if np == 2 or np == 3 or np == 5 or np == 7 or np == 11:\n",
        "            print(f\"{np} é primo\")\n",
        "        else:\n",
        "            print(f\"{np} não é primo e é divisivel por:\")\n",
        "            for i in range(1,np):\n",
        "                if np % i == 0:\n",
        "                    print(f\"{i}\")\n",
        "    else:\n",
        "        print(f\"{np} é primo e é divisivel somente por 1 e por {np}\")\n",
        "    "
      ],
      "metadata": {
        "colab": {
          "base_uri": "https://localhost:8080/"
        },
        "id": "1Ms83D1_MbvD",
        "outputId": "6253663c-be2a-4400-c579-b1b1bc4db152"
      },
      "execution_count": 70,
      "outputs": [
        {
          "output_type": "stream",
          "name": "stdout",
          "text": [
            "Digite um numero: -11\n",
            "-11 não é primo e é divisivel por:\n"
          ]
        }
      ]
    },
    {
      "cell_type": "code",
      "source": [
        "# numeros primos, por t.me/dieguesmosken\n",
        "numero = int(input(\"Digite um numero para saber se é primo: \"))\n",
        "divisores = []\n",
        "for i in range(1, numero+1):\n",
        "    if numero % i == 0:\n",
        "        divisores.append(i)\n",
        "if len(divisores) == 2:\n",
        "    print (\"O numero é primo divisivel por \",divisores)\n",
        "else:\n",
        "    print (\"O numero não é primo pois é divisivel por: \\n\",divisores)"
      ],
      "metadata": {
        "colab": {
          "base_uri": "https://localhost:8080/"
        },
        "id": "MpRkt7LkavOA",
        "outputId": "ce2c7378-6ab0-4d48-f49c-da6b98ad4ac4"
      },
      "execution_count": 93,
      "outputs": [
        {
          "output_type": "stream",
          "name": "stdout",
          "text": [
            "Digite um numero para saber se é primo: 1\n",
            "O numero não é primo pois é divisivel por: \n",
            " [1]\n"
          ]
        }
      ]
    },
    {
      "cell_type": "code",
      "source": [
        "#while\n",
        "n = 0\n",
        "lista = []\n",
        "while n < 10:\n",
        "    print(n)\n",
        "    lista.append(n+1)\n",
        "    n+=1\n",
        "else:\n",
        "    print(\"Fim\")\n",
        "    print(\"\\nlista: \",lista)"
      ],
      "metadata": {
        "colab": {
          "base_uri": "https://localhost:8080/"
        },
        "id": "vHJ5yGcrjIeu",
        "outputId": "8f94d93e-26e4-4f0c-9ed8-e7d211358d45"
      },
      "execution_count": 101,
      "outputs": [
        {
          "output_type": "stream",
          "name": "stdout",
          "text": [
            "0\n",
            "1\n",
            "2\n",
            "3\n",
            "4\n",
            "5\n",
            "6\n",
            "7\n",
            "8\n",
            "9\n",
            "Fim\n",
            "\n",
            "lista:  [1, 2, 3, 4, 5, 6, 7, 8, 9, 10]\n"
          ]
        }
      ]
    }
  ]
}