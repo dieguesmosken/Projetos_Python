{
  "nbformat": 4,
  "nbformat_minor": 0,
  "metadata": {
    "colab": {
      "provenance": [],
      "authorship_tag": "ABX9TyN4pOlh0SqO0m2h0+jfxnCI",
      "include_colab_link": true
    },
    "kernelspec": {
      "name": "python3",
      "display_name": "Python 3"
    },
    "language_info": {
      "name": "python"
    }
  },
  "cells": [
    {
      "cell_type": "markdown",
      "metadata": {
        "id": "view-in-github",
        "colab_type": "text"
      },
      "source": [
        "<a href=\"https://colab.research.google.com/github/dieguesmosken/Projetos_Python/blob/main/Codigo_Aula12__23_05.ipynb\" target=\"_parent\"><img src=\"https://colab.research.google.com/assets/colab-badge.svg\" alt=\"Open In Colab\"/></a>"
      ]
    },
    {
      "cell_type": "code",
      "execution_count": null,
      "metadata": {
        "id": "zPzvgD5zq-L7"
      },
      "outputs": [],
      "source": [
        "#testes"
      ]
    },
    {
      "cell_type": "markdown",
      "source": [
        "#Testes"
      ],
      "metadata": {
        "id": "jO-TnS_qq_OA"
      }
    },
    {
      "cell_type": "code",
      "source": [],
      "metadata": {
        "id": "ALVbs-44rQxY"
      },
      "execution_count": null,
      "outputs": []
    },
    {
      "cell_type": "code",
      "execution_count": null,
      "metadata": {
        "colab": {
          "base_uri": "https://localhost:8080/",
          "height": 1000
        },
        "id": "FacqBFOCjd2j",
        "outputId": "bd113d6f-921b-49a4-ae23-a1858139c860"
      },
      "outputs": [
        {
          "metadata": {
            "tags": null
          },
          "name": "stdout",
          "output_type": "stream",
          "text": [
            "Tabuleiro:\n",
            "┌ ─ ─ ─ ┬ ─ ─ ─ ┬ ─ ─ ─ ┐\n",
            "|       |       |       |\n",
            "|       |       |       |\n",
            "|       |       |       |\n",
            "| ─ ─ ─ | ─ ─ ─ | ─ ─ ─ |\n",
            "|       |       |       |\n",
            "|       |       |       |\n",
            "|       |       |       |\n",
            "| ─ ─ ─ | ─ ─ ─ | ─ ─ ─ |\n",
            "|       |       |       |\n",
            "|       |       |       |\n",
            "|       |       |       |\n",
            "└ ─ ─ ─ ┴ ─ ─ ─ ┴ ─ ─ ─ ┘\n",
            "Tabuleiro:\n",
            "┌ ─ ─ ─ ┬ ─ ─ ─ ┬ ─ ─ ─ ┐\n",
            "|       |       |       |\n",
            "|       |   X   |       |\n",
            "|       |       |       |\n",
            "| ─ ─ ─ | ─ ─ ─ | ─ ─ ─ |\n",
            "|       |       |       |\n",
            "|       |       |       |\n",
            "|       |       |       |\n",
            "| ─ ─ ─ | ─ ─ ─ | ─ ─ ─ |\n",
            "|       |       |       |\n",
            "|       |       |       |\n",
            "|       |       |       |\n",
            "└ ─ ─ ─ ┴ ─ ─ ─ ┴ ─ ─ ─ ┘\n",
            "Tabuleiro:\n",
            "┌ ─ ─ ─ ┬ ─ ─ ─ ┬ ─ ─ ─ ┐\n",
            "|       |       |       |\n",
            "|       |   X   |   O   |\n",
            "|       |       |       |\n",
            "| ─ ─ ─ | ─ ─ ─ | ─ ─ ─ |\n",
            "|       |       |       |\n",
            "|       |       |       |\n",
            "|       |       |       |\n",
            "| ─ ─ ─ | ─ ─ ─ | ─ ─ ─ |\n",
            "|       |       |       |\n",
            "|       |       |       |\n",
            "|       |       |       |\n",
            "└ ─ ─ ─ ┴ ─ ─ ─ ┴ ─ ─ ─ ┘\n"
          ]
        },
        {
          "output_type": "error",
          "ename": "KeyboardInterrupt",
          "evalue": "ignored",
          "traceback": [
            "\u001b[0;31m---------------------------------------------------------------------------\u001b[0m",
            "\u001b[0;31mKeyboardInterrupt\u001b[0m                         Traceback (most recent call last)",
            "\u001b[0;32m<ipython-input-22-f5ee2d44dde1>\u001b[0m in \u001b[0;36m<cell line: 96>\u001b[0;34m()\u001b[0m\n\u001b[1;32m     94\u001b[0m \u001b[0;34m\u001b[0m\u001b[0m\n\u001b[1;32m     95\u001b[0m \u001b[0;31m# Iniciar o jogo da velha\u001b[0m\u001b[0;34m\u001b[0m\u001b[0;34m\u001b[0m\u001b[0m\n\u001b[0;32m---> 96\u001b[0;31m \u001b[0mjogo_da_velha\u001b[0m\u001b[0;34m(\u001b[0m\u001b[0;34m)\u001b[0m\u001b[0;34m\u001b[0m\u001b[0;34m\u001b[0m\u001b[0m\n\u001b[0m",
            "\u001b[0;32m<ipython-input-22-f5ee2d44dde1>\u001b[0m in \u001b[0;36mjogo_da_velha\u001b[0;34m()\u001b[0m\n\u001b[1;32m     58\u001b[0m \u001b[0;34m\u001b[0m\u001b[0m\n\u001b[1;32m     59\u001b[0m         \u001b[0;31m# pedir ao jogador um numero de 1 a 9\u001b[0m\u001b[0;34m\u001b[0m\u001b[0;34m\u001b[0m\u001b[0m\n\u001b[0;32m---> 60\u001b[0;31m         \u001b[0mjogada\u001b[0m \u001b[0;34m=\u001b[0m \u001b[0minput\u001b[0m\u001b[0;34m(\u001b[0m\u001b[0;34m\"Jogador \"\u001b[0m \u001b[0;34m+\u001b[0m \u001b[0mjogadores\u001b[0m\u001b[0;34m[\u001b[0m\u001b[0mjogador\u001b[0m\u001b[0;34m]\u001b[0m \u001b[0;34m+\u001b[0m \u001b[0;34m\", escolha uma posição (1-9): \"\u001b[0m\u001b[0;34m)\u001b[0m\u001b[0;34m\u001b[0m\u001b[0;34m\u001b[0m\u001b[0m\n\u001b[0m\u001b[1;32m     61\u001b[0m \u001b[0;34m\u001b[0m\u001b[0m\n\u001b[1;32m     62\u001b[0m         \u001b[0;31m# Validar a jogada se o usuario digitou somente numeros\u001b[0m\u001b[0;34m\u001b[0m\u001b[0;34m\u001b[0m\u001b[0m\n",
            "\u001b[0;32m/usr/local/lib/python3.10/dist-packages/ipykernel/kernelbase.py\u001b[0m in \u001b[0;36mraw_input\u001b[0;34m(self, prompt)\u001b[0m\n\u001b[1;32m    849\u001b[0m                 \u001b[0;34m\"raw_input was called, but this frontend does not support input requests.\"\u001b[0m\u001b[0;34m\u001b[0m\u001b[0;34m\u001b[0m\u001b[0m\n\u001b[1;32m    850\u001b[0m             )\n\u001b[0;32m--> 851\u001b[0;31m         return self._input_request(str(prompt),\n\u001b[0m\u001b[1;32m    852\u001b[0m             \u001b[0mself\u001b[0m\u001b[0;34m.\u001b[0m\u001b[0m_parent_ident\u001b[0m\u001b[0;34m,\u001b[0m\u001b[0;34m\u001b[0m\u001b[0;34m\u001b[0m\u001b[0m\n\u001b[1;32m    853\u001b[0m             \u001b[0mself\u001b[0m\u001b[0;34m.\u001b[0m\u001b[0m_parent_header\u001b[0m\u001b[0;34m,\u001b[0m\u001b[0;34m\u001b[0m\u001b[0;34m\u001b[0m\u001b[0m\n",
            "\u001b[0;32m/usr/local/lib/python3.10/dist-packages/ipykernel/kernelbase.py\u001b[0m in \u001b[0;36m_input_request\u001b[0;34m(self, prompt, ident, parent, password)\u001b[0m\n\u001b[1;32m    893\u001b[0m             \u001b[0;32mexcept\u001b[0m \u001b[0mKeyboardInterrupt\u001b[0m\u001b[0;34m:\u001b[0m\u001b[0;34m\u001b[0m\u001b[0;34m\u001b[0m\u001b[0m\n\u001b[1;32m    894\u001b[0m                 \u001b[0;31m# re-raise KeyboardInterrupt, to truncate traceback\u001b[0m\u001b[0;34m\u001b[0m\u001b[0;34m\u001b[0m\u001b[0m\n\u001b[0;32m--> 895\u001b[0;31m                 \u001b[0;32mraise\u001b[0m \u001b[0mKeyboardInterrupt\u001b[0m\u001b[0;34m(\u001b[0m\u001b[0;34m\"Interrupted by user\"\u001b[0m\u001b[0;34m)\u001b[0m \u001b[0;32mfrom\u001b[0m \u001b[0;32mNone\u001b[0m\u001b[0;34m\u001b[0m\u001b[0;34m\u001b[0m\u001b[0m\n\u001b[0m\u001b[1;32m    896\u001b[0m             \u001b[0;32mexcept\u001b[0m \u001b[0mException\u001b[0m \u001b[0;32mas\u001b[0m \u001b[0me\u001b[0m\u001b[0;34m:\u001b[0m\u001b[0;34m\u001b[0m\u001b[0;34m\u001b[0m\u001b[0m\n\u001b[1;32m    897\u001b[0m                 \u001b[0mself\u001b[0m\u001b[0;34m.\u001b[0m\u001b[0mlog\u001b[0m\u001b[0;34m.\u001b[0m\u001b[0mwarning\u001b[0m\u001b[0;34m(\u001b[0m\u001b[0;34m\"Invalid Message:\"\u001b[0m\u001b[0;34m,\u001b[0m \u001b[0mexc_info\u001b[0m\u001b[0;34m=\u001b[0m\u001b[0;32mTrue\u001b[0m\u001b[0;34m)\u001b[0m\u001b[0;34m\u001b[0m\u001b[0;34m\u001b[0m\u001b[0m\n",
            "\u001b[0;31mKeyboardInterrupt\u001b[0m: Interrupted by user"
          ]
        }
      ],
      "source": [
        "\n",
        "def verificar_vitoria(tab):\n",
        "    jogo_vencedor = [\n",
        "        [0, 1, 2],\n",
        "        [3, 4, 5],\n",
        "        [6, 7, 8],\n",
        "        [0, 3, 6],\n",
        "        [1, 4, 7],\n",
        "        [2, 5, 8],\n",
        "        [0, 4, 8],\n",
        "        [2, 4, 6]\n",
        "    ]\n",
        "\n",
        "    for linha in jogo_vencedor:\n",
        "        a, b, c = linha\n",
        "        if tab[a] == tab[b] == tab[c] != \" \":\n",
        "            return True\n",
        "\n",
        "    return False\n",
        "'''┌ (Canto superior esquerdo)\n",
        "┬ (Linha horizontal superior)\n",
        "┐ (Canto superior direito)\n",
        "├ (Linha vertical no meio à esquerda)\n",
        "┼ (Cruz no meio)\n",
        "┤ (Linha vertical no meio à direita)\n",
        "└ (Canto inferior esquerdo)\n",
        "┴ (Linha horizontal inferior)\n",
        "┘ (Canto inferior direito)'''\n",
        "\n",
        "def imprimir_tabuleiro(tab):\n",
        "    print(\"Tabuleiro:\")\n",
        "    print(\"┌\", \"─\", \"─\", \"─\", \"┬\",\"─\", \"─\", \"─\", \"┬\", \"─\", \"─\", \"─\", \"┐\")\n",
        "    print(\"|\", \" \", \" \", \" \", \"|\",\" \", \" \", \" \", \"|\", \" \", \" \", \" \", \"|\")\n",
        "    print(\"|\",\" \", tab[0],\" \", \"|\",\" \", tab[1],\" \", \"|\",\" \", tab[2],\" \", \"|\")\n",
        "    print(\"|\", \" \", \" \", \" \", \"|\",\" \", \" \", \" \", \"|\", \" \", \" \", \" \", \"|\")\n",
        "    print(\"|\", \"─\", \"─\", \"─\", \"|\",\"─\", \"─\", \"─\", \"|\", \"─\", \"─\", \"─\", \"|\")\n",
        "    print(\"|\", \" \", \" \", \" \", \"|\",\" \", \" \", \" \", \"|\", \" \", \" \", \" \", \"|\")\n",
        "    print(\"|\",\" \", tab[3],\" \", \"|\",\" \", tab[4],\" \", \"|\",\" \", tab[5],\" \", \"|\")\n",
        "    print(\"|\", \" \", \" \", \" \", \"|\",\" \", \" \", \" \", \"|\", \" \", \" \", \" \", \"|\")\n",
        "    print(\"|\", \"─\", \"─\", \"─\", \"|\",\"─\", \"─\", \"─\", \"|\", \"─\", \"─\", \"─\", \"|\")\n",
        "    print(\"|\", \" \", \" \", \" \", \"|\",\" \", \" \", \" \", \"|\", \" \", \" \", \" \", \"|\")\n",
        "    print(\"|\",\" \", tab[6],\" \", \"|\",\" \", tab[7],\" \", \"|\",\" \", tab[8],\" \", \"|\")\n",
        "    print(\"|\", \" \", \" \", \" \", \"|\",\" \", \" \", \" \", \"|\", \" \", \" \", \" \", \"|\")\n",
        "    print(\"└\", \"─\", \"─\", \"─\", \"┴\",\"─\", \"─\", \"─\", \"┴\", \"─\", \"─\", \"─\", \"┘\")\n",
        "   \n",
        "\n",
        "\n",
        "def jogo_da_velha():\n",
        "    tab = [\" \", \" \", \" \", \" \", \" \", \" \", \" \", \" \", \" \"]\n",
        "    jogadores = [\"X\", \"O\"]\n",
        "    jogador = 0\n",
        "    jogo_acabou = False\n",
        "\n",
        "    while not jogo_acabou:\n",
        "        imprimir_tabuleiro(tab)\n",
        "\n",
        "   \n",
        "        # pedir ao jogador um numero de 1 a 9\n",
        "        jogada = input(\"Jogador \" + jogadores[jogador] + \", escolha uma posição (1-9): \")\n",
        "\n",
        "        # Validar a jogada se o usuario digitou somente numeros\n",
        "        if not jogada.isdigit():\n",
        "            print(\"Entrada inválida. Insira um número de 1 a 9.\")\n",
        "            continue\n",
        "        jogada = int(jogada)\n",
        "        # Validar a jogada\n",
        "        if jogada < 1 or jogada > 9:\n",
        "            print(\"Posição inválida. Tente novamente.\")\n",
        "            continue\n",
        "\n",
        "        indice_jogada = jogada - 1\n",
        "        if tab[indice_jogada] == \" \":\n",
        "            tab[indice_jogada] = jogadores[jogador]\n",
        "        else:\n",
        "            print(\"Posição já ocupada. Tente novamente.\")\n",
        "            continue\n",
        "\n",
        "        # Verificar se o jogador atual venceu\n",
        "        if verificar_vitoria(tab):\n",
        "            imprimir_tabuleiro(tab)\n",
        "            print(\"Jogador \" + jogadores[jogador] + \" venceu!\")\n",
        "            jogo_acabou = True\n",
        "        # Verificar se houve empate \n",
        "        #  ele verifica se não tem nenhum espaço vazio sobrando na lista do tabuleiro\n",
        "        elif \" \" not in tab:\n",
        "            imprimir_tabuleiro(tab)\n",
        "            print(\"O jogo terminou em empate!\")\n",
        "            jogo_acabou = True\n",
        "\n",
        "        # Alternar para o próximo jogador\n",
        "        jogador = (jogador + 1) % 2\n",
        "\n",
        "\n",
        "# Iniciar o jogo da velha\n",
        "jogo_da_velha()\n"
      ]
    }
  ]
}