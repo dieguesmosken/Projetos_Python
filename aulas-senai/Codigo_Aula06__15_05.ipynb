{
  "nbformat": 4,
  "nbformat_minor": 0,
  "metadata": {
    "colab": {
      "provenance": [],
      "authorship_tag": "ABX9TyPjAs4REc76Dg4UIQfPWC2C",
      "include_colab_link": true
    },
    "kernelspec": {
      "name": "python3",
      "display_name": "Python 3"
    },
    "language_info": {
      "name": "python"
    }
  },
  "cells": [
    {
      "cell_type": "markdown",
      "metadata": {
        "id": "view-in-github",
        "colab_type": "text"
      },
      "source": [
        "<a href=\"https://colab.research.google.com/github/dieguesmosken/Projetos_Python/blob/main/Codigo_Aula06__15_05.ipynb\" target=\"_parent\"><img src=\"https://colab.research.google.com/assets/colab-badge.svg\" alt=\"Open In Colab\"/></a>"
      ]
    },
    {
      "cell_type": "markdown",
      "source": [
        "### dia 15/05\n",
        "desafio\n",
        "---"
      ],
      "metadata": {
        "id": "BNf1T_JqdLDw"
      }
    },
    {
      "cell_type": "code",
      "source": [
        "# Contar a qtd de letras da palavra senai e\n",
        "# listar separadamente\n",
        "palavra = \"senai\" \n",
        "frase = \"O senai de registro possui o curso de python!\"\n",
        "# quantidade de letras\n",
        "qtdl = len(palavra) # 5 caracteres\n",
        "\n",
        "print(f\"A quantidade de letras são: {qtdl}\")\n",
        "for i in range(qtdl):\n",
        "    print(f\"{palavra[i]}\")\n",
        "\n",
        "\n"
      ],
      "metadata": {
        "colab": {
          "base_uri": "https://localhost:8080/"
        },
        "id": "BVWLRy49dQNI",
        "outputId": "f365f019-cd89-4c1a-bbdc-caa667433581"
      },
      "execution_count": null,
      "outputs": [
        {
          "output_type": "stream",
          "name": "stdout",
          "text": [
            "45\n",
            "A quantidade de letras são: 5\n",
            "s\n",
            "e\n",
            "n\n",
            "a\n",
            "i\n"
          ]
        }
      ]
    },
    {
      "cell_type": "code",
      "source": [
        "# importa randint da biblioteca random e nomeia como rd\n",
        "from random import randint as rd\n",
        "#   Importa Display\n",
        "from IPython.display import display, Image\n",
        "#quantidade de letras frase\n",
        "count = 0\n",
        "plv = 1\n",
        "qtd_white = frase.count(\" \")\n",
        "palavra = \"senai\" \n",
        "frase = \"O senai de registro possui o curso de python!\"\n",
        "nfrase = []\n",
        "qtdl = len(palavra) # 5 caracteres\n",
        "qtd_lf = len(frase) # 45 caracteres\n",
        "print(frase)\n",
        "print(f\"a quantidade de caracteres na frase é: {qtd_lf}\")\n",
        "# parte 2: caracteres sem os espaços em branco\n",
        "for i in range(qtd_lf):\n",
        "    if frase[i] != \" \":\n",
        "        count += 1\n",
        "    else:\n",
        "        plv += 1\n",
        "    \n",
        "# uppercase\n",
        "for s in range(qtdl):\n",
        "    nfrase += palavra[s].upper()\n",
        "   \n",
        "\n",
        "print(f\"espaços em branco: {qtd_white}\")      \n",
        "            \n",
        "  \n",
        "print(nfrase)\n",
        "\n",
        "print(f\"a quantidade de caracteres excluindo os espaços é: {count}\")\n",
        "print(f\"a quantidade de palavras é: {plv}\")\n",
        "\n",
        "#lista de palavras\n",
        "lista_plv = frase.split()\n",
        "print(len(lista_plv))\n",
        "print(lista_plv)\n",
        "\n",
        "# sorteio palavras\n",
        "import random\n",
        "for i in range(len(lista_plv)):\n",
        "    num = int(random.random() * len(lista_plv) )\n",
        "    \n",
        "    if lista_plv[num] == \"senai\":\n",
        "        # imagem\n",
        "        print(f\"encontrado senai\")\n",
        "        display(Image(\"logo-senai2.png\", width=200 ))\n",
        "    else:\n",
        "        print(f\"image: {num} não é senai\")\n",
        "\n",
        "\n",
        "\n",
        "   "
      ],
      "metadata": {
        "colab": {
          "base_uri": "https://localhost:8080/",
          "height": 371
        },
        "id": "9ffZaTDmgXPQ",
        "outputId": "c74befc9-d13c-42aa-9308-20c347696a28"
      },
      "execution_count": null,
      "outputs": [
        {
          "output_type": "stream",
          "name": "stdout",
          "text": [
            "O senai de registro possui o curso de python!\n",
            "a quantidade de caracteres na frase é: 45\n",
            "espaços em branco: 8\n",
            "['S', 'E', 'N', 'A', 'I']\n",
            "a quantidade de caracteres excluindo os espaços é: 37\n",
            "a quantidade de palavras é: 9\n",
            "9\n",
            "['O', 'senai', 'de', 'registro', 'possui', 'o', 'curso', 'de', 'python!']\n",
            "image: 8 não é senai\n",
            "encontrado senai\n"
          ]
        },
        {
          "output_type": "display_data",
          "data": {
            "image/png": "[encoded data removed]",
            "text/plain": [
              "<IPython.core.display.Image object>"
            ]
          },
          "metadata": {
            "image/png": {
              "width": 200
            }
          }
        },
        {
          "output_type": "stream",
          "name": "stdout",
          "text": [
            "image: 2 não é senai\n",
            "image: 5 não é senai\n",
            "image: 6 não é senai\n",
            "image: 5 não é senai\n",
            "image: 5 não é senai\n",
            "image: 7 não é senai\n",
            "image: 4 não é senai\n"
          ]
        }
      ]
    },
    {
      "cell_type": "code",
      "source": [
        "#jokempo player versus pc\n",
        "import random\n",
        "from random import randint as rd\n",
        "pontos_pc = 0\n",
        "pontos_jg = 0 \n",
        "\n",
        "def jogo():\n",
        "    jogadas = [\"pedra\", \"papel\", \"tesoura\"]\n",
        "    escolha = input(f\"escolha uma dessas opções {jogadas} \")\n",
        "\n",
        "    jogada = jogadas[int(random.random() * len(jogadas))]\n",
        "    print(f\"o pc escolheu: {jogada}\")\n",
        "    print(\"o resultado foi:\")\n",
        "    if jogada == escolha:\n",
        "        print(\"empate\")\n",
        "    else:\n",
        "        #vitoria maquina\n",
        "        if (jogada == jogadas[0] and escolha == \"tesoura\") or (jogada == jogadas[1] and escolha == \"pedra\") or (jogada == jogadas[2] and escolha == \"papel\"):\n",
        "            print(f\"vitoria da maquina com: {jogada}\")\n",
        "            pontos_pc+=1\n",
        "        else:\n",
        "            print(f\"vitoria do jogador com {escolha}\")\n",
        "            pontos_jg+=1\n",
        "# melhor de tres\n",
        "for i in range(3):\n",
        "    jogo()\n",
        "    if pontos_pc > 1 or pontos_jg > 1:\n",
        "        print(\"o resultado final é:\")\n",
        "        if pontos_pc < pontos_jg:\n",
        "            print(\"vitoria do jogador\")\n",
        "        else:\n",
        "            print(\"vitoria da maquina\")"
      ],
      "metadata": {
        "colab": {
          "base_uri": "https://localhost:8080/",
          "height": 579
        },
        "id": "kxYI1nxx8ajo",
        "outputId": "e25333c1-a58a-47b2-f8ae-289b6a716bd6"
      },
      "execution_count": null,
      "outputs": [
        {
          "output_type": "stream",
          "name": "stdout",
          "text": [
            "escolha uma dessas opções ['pedra', 'papel', 'tesoura'] pedra\n",
            "o pc escolheu: pedra\n",
            "o resultado foi:\n",
            "empate\n",
            "escolha uma dessas opções ['pedra', 'papel', 'tesoura'] papel\n",
            "o pc escolheu: papel\n",
            "o resultado foi:\n",
            "empate\n",
            "escolha uma dessas opções ['pedra', 'papel', 'tesoura'] tesoura\n",
            "o pc escolheu: pedra\n",
            "o resultado foi:\n",
            "vitoria da maquina com: pedra\n"
          ]
        },
        {
          "output_type": "error",
          "ename": "UnboundLocalError",
          "evalue": "ignored",
          "traceback": [
            "\u001b[0;31m---------------------------------------------------------------------------\u001b[0m",
            "\u001b[0;31mUnboundLocalError\u001b[0m                         Traceback (most recent call last)",
            "\u001b[0;32m<ipython-input-109-79cc1e27e4bb>\u001b[0m in \u001b[0;36m<cell line: 25>\u001b[0;34m()\u001b[0m\n\u001b[1;32m     24\u001b[0m \u001b[0;31m# melhor de tres\u001b[0m\u001b[0;34m\u001b[0m\u001b[0;34m\u001b[0m\u001b[0m\n\u001b[1;32m     25\u001b[0m \u001b[0;32mfor\u001b[0m \u001b[0mi\u001b[0m \u001b[0;32min\u001b[0m \u001b[0mrange\u001b[0m\u001b[0;34m(\u001b[0m\u001b[0;36m3\u001b[0m\u001b[0;34m)\u001b[0m\u001b[0;34m:\u001b[0m\u001b[0;34m\u001b[0m\u001b[0;34m\u001b[0m\u001b[0m\n\u001b[0;32m---> 26\u001b[0;31m     \u001b[0mjogo\u001b[0m\u001b[0;34m(\u001b[0m\u001b[0;34m)\u001b[0m\u001b[0;34m\u001b[0m\u001b[0;34m\u001b[0m\u001b[0m\n\u001b[0m\u001b[1;32m     27\u001b[0m     \u001b[0;32mif\u001b[0m \u001b[0mpontos_pc\u001b[0m \u001b[0;34m>\u001b[0m \u001b[0;36m1\u001b[0m \u001b[0;32mor\u001b[0m \u001b[0mpontos_jg\u001b[0m \u001b[0;34m>\u001b[0m \u001b[0;36m1\u001b[0m\u001b[0;34m:\u001b[0m\u001b[0;34m\u001b[0m\u001b[0;34m\u001b[0m\u001b[0m\n\u001b[1;32m     28\u001b[0m         \u001b[0mprint\u001b[0m\u001b[0;34m(\u001b[0m\u001b[0;34m\"o resultado final é:\"\u001b[0m\u001b[0;34m)\u001b[0m\u001b[0;34m\u001b[0m\u001b[0;34m\u001b[0m\u001b[0m\n",
            "\u001b[0;32m<ipython-input-109-79cc1e27e4bb>\u001b[0m in \u001b[0;36mjogo\u001b[0;34m()\u001b[0m\n\u001b[1;32m     18\u001b[0m         \u001b[0;32mif\u001b[0m \u001b[0;34m(\u001b[0m\u001b[0mjogada\u001b[0m \u001b[0;34m==\u001b[0m \u001b[0mjogadas\u001b[0m\u001b[0;34m[\u001b[0m\u001b[0;36m0\u001b[0m\u001b[0;34m]\u001b[0m \u001b[0;32mand\u001b[0m \u001b[0mescolha\u001b[0m \u001b[0;34m==\u001b[0m \u001b[0;34m\"tesoura\"\u001b[0m\u001b[0;34m)\u001b[0m \u001b[0;32mor\u001b[0m \u001b[0;34m(\u001b[0m\u001b[0mjogada\u001b[0m \u001b[0;34m==\u001b[0m \u001b[0mjogadas\u001b[0m\u001b[0;34m[\u001b[0m\u001b[0;36m1\u001b[0m\u001b[0;34m]\u001b[0m \u001b[0;32mand\u001b[0m \u001b[0mescolha\u001b[0m \u001b[0;34m==\u001b[0m \u001b[0;34m\"pedra\"\u001b[0m\u001b[0;34m)\u001b[0m \u001b[0;32mor\u001b[0m \u001b[0;34m(\u001b[0m\u001b[0mjogada\u001b[0m \u001b[0;34m==\u001b[0m \u001b[0mjogadas\u001b[0m\u001b[0;34m[\u001b[0m\u001b[0;36m2\u001b[0m\u001b[0;34m]\u001b[0m \u001b[0;32mand\u001b[0m \u001b[0mescolha\u001b[0m \u001b[0;34m==\u001b[0m \u001b[0;34m\"papel\"\u001b[0m\u001b[0;34m)\u001b[0m\u001b[0;34m:\u001b[0m\u001b[0;34m\u001b[0m\u001b[0;34m\u001b[0m\u001b[0m\n\u001b[1;32m     19\u001b[0m             \u001b[0mprint\u001b[0m\u001b[0;34m(\u001b[0m\u001b[0;34mf\"vitoria da maquina com: {jogada}\"\u001b[0m\u001b[0;34m)\u001b[0m\u001b[0;34m\u001b[0m\u001b[0;34m\u001b[0m\u001b[0m\n\u001b[0;32m---> 20\u001b[0;31m             \u001b[0mpontos_pc\u001b[0m\u001b[0;34m+=\u001b[0m\u001b[0;36m1\u001b[0m\u001b[0;34m\u001b[0m\u001b[0;34m\u001b[0m\u001b[0m\n\u001b[0m\u001b[1;32m     21\u001b[0m         \u001b[0;32melse\u001b[0m\u001b[0;34m:\u001b[0m\u001b[0;34m\u001b[0m\u001b[0;34m\u001b[0m\u001b[0m\n\u001b[1;32m     22\u001b[0m             \u001b[0mprint\u001b[0m\u001b[0;34m(\u001b[0m\u001b[0;34mf\"vitoria do jogador com {escolha}\"\u001b[0m\u001b[0;34m)\u001b[0m\u001b[0;34m\u001b[0m\u001b[0;34m\u001b[0m\u001b[0m\n",
            "\u001b[0;31mUnboundLocalError\u001b[0m: local variable 'pontos_pc' referenced before assignment"
          ]
        }
      ]
    }
  ]
}