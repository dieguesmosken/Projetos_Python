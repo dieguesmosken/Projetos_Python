{
  "nbformat": 4,
  "nbformat_minor": 0,
  "metadata": {
    "colab": {
      "provenance": [],
      "authorship_tag": "ABX9TyMjNFzttv05sthWFZJwlWmt",
      "include_colab_link": true
    },
    "kernelspec": {
      "name": "python3",
      "display_name": "Python 3"
    },
    "language_info": {
      "name": "python"
    }
  },
  "cells": [
    {
      "cell_type": "markdown",
      "metadata": {
        "id": "view-in-github",
        "colab_type": "text"
      },
      "source": [
        "<a href=\"https://colab.research.google.com/github/dieguesmosken/Projetos_Python/blob/aula-python/Codigo_Aula08__17_05.ipynb\" target=\"_parent\"><img src=\"https://colab.research.google.com/assets/colab-badge.svg\" alt=\"Open In Colab\"/></a>"
      ]
    },
    {
      "cell_type": "markdown",
      "source": [
        "### Dia 17/05\n",
        "-\n",
        "---"
      ],
      "metadata": {
        "id": "OQAoq9fezJOA"
      }
    },
    {
      "cell_type": "code",
      "source": [
        "import math\n",
        "lista = [14, 25, 5, 19500, 36, 400, 99, 2, 10, 0, -1, -30]\n",
        "for i in range(len(lista)-1):\n",
        "    for j in range(len(lista)-i):\n",
        "        maior = int(((lista[i]+lista[i+1])+(math.sqrt(math.pow((lista[i]-lista[i+1]), 2))))/2)\n",
        "        lista.append(maior)\n",
        "        if lista[i] != maior:\n",
        "            lista.remove(lista[i+1])         \n",
        "        else:\n",
        "            lista.remove(lista[i])\n",
        "print(lista)\n"
      ],
      "metadata": {
        "colab": {
          "base_uri": "https://localhost:8080/"
        },
        "id": "BEO0gKo5x9nj",
        "outputId": "68ca8903-86e3-4796-fab1-ac4f986d5e0b"
      },
      "execution_count": null,
      "outputs": [
        {
          "output_type": "stream",
          "name": "stdout",
          "text": [
            "[-30, -1, 0, 2, 5, 10, 14, 25, 36, 99, 400, 19500]\n"
          ]
        }
      ]
    },
    {
      "cell_type": "code",
      "source": [
        "lista = [14, 25, 5, 19500, 36, 400, 99, 2, 10, 0, -1, -30]\n",
        "print(sorted(lista))"
      ],
      "metadata": {
        "colab": {
          "base_uri": "https://localhost:8080/"
        },
        "id": "0pJMrjjx6iLd",
        "outputId": "bf323408-9f17-4c76-be90-08d4c51e0ead"
      },
      "execution_count": null,
      "outputs": [
        {
          "output_type": "stream",
          "name": "stdout",
          "text": [
            "[-30, -1, 0, 2, 5, 10, 14, 25, 36, 99, 400, 19500]\n"
          ]
        }
      ]
    }
  ]
}