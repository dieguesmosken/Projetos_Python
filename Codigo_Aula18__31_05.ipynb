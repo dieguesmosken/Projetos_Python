{
  "nbformat": 4,
  "nbformat_minor": 0,
  "metadata": {
    "colab": {
      "provenance": [],
      "authorship_tag": "ABX9TyMaUxEA+uvIzHf/FlBMWveG",
      "include_colab_link": true
    },
    "kernelspec": {
      "name": "python3",
      "display_name": "Python 3"
    },
    "language_info": {
      "name": "python"
    }
  },
  "cells": [
    {
      "cell_type": "markdown",
      "metadata": {
        "id": "view-in-github",
        "colab_type": "text"
      },
      "source": [
        "<a href=\"https://colab.research.google.com/github/dieguesmosken/Projetos_Python/blob/main/Codigo_Aula18__31_05.ipynb\" target=\"_parent\"><img src=\"https://colab.research.google.com/assets/colab-badge.svg\" alt=\"Open In Colab\"/></a>"
      ]
    },
    {
      "cell_type": "markdown",
      "source": [
        "- Web Scraping (Mineração de dados da internet)"
      ],
      "metadata": {
        "id": "IU3GZdJ25Cz6"
      }
    },
    {
      "cell_type": "code",
      "execution_count": null,
      "metadata": {
        "colab": {
          "base_uri": "https://localhost:8080/"
        },
        "id": "zokG3FzB2W6M",
        "outputId": "dc16b15b-f073-46dc-e9b3-4cdd63429468"
      },
      "outputs": [
        {
          "output_type": "stream",
          "name": "stdout",
          "text": [
            "['FIESP', 'CIESP', 'SESI', 'SENAI', 'IRS', '', '', '', '', '', '', 'Cursos', 'searchVisualizar todos os cursos', 'Administração e Gestão', 'Alimentos e Bebidas', 'Construção Civil e Design de Mobiliário', 'Design de Moda, Têxtil, Vestuário, Calçados e Joalheria', 'Design Gráfico, Papel, Celulose, Gráfica e Editorial', 'Fabricação Mecânica e Mecânica Industrial', 'Logística e Transporte', 'Mecânica Automotiva', 'Mecatrônica, Sistemas de Automação, Energia e Eletrônica', 'Meio Ambiente, Saúde e Segurança do Trabalho', 'Metalurgia e Soldagem', 'Química, Cerâmica e Plásticos', 'Refrigeração e Climatização', 'Tecnologia da Informação e Informática', 'Cursos Livres', 'Pós-graduação', 'Graduação', 'Aprendiz SENAI', 'Cursos Técnicos', 'Cursos Livres', 'Pós-graduação', 'Graduação', 'Aprendiz SENAI', 'Cursos Técnicos', 'Cursos Livres', 'Pós-graduação', 'Aprendiz SENAI', 'Cursos Técnicos', 'Cursos Livres', 'Graduação', 'Pós-graduação', 'Aprendiz SENAI', 'Cursos Técnicos', 'Cursos Livres', 'Pós-graduação', 'Graduação', 'Aprendiz SENAI', 'Cursos Técnicos', 'Cursos Livres', 'Pós-graduação', 'Graduação', 'Aprendiz SENAI', 'Cursos Técnicos', 'Cursos Livres', 'Pós-graduação', 'Aprendiz SENAI', 'Cursos Técnicos', 'Cursos Livres', 'Pós-graduação', 'Graduação', 'Aprendiz SENAI', 'Cursos Técnicos', 'Cursos Livres', 'Pós-graduação', 'Graduação', 'Aprendiz SENAI', 'Cursos Técnicos', 'Cursos Livres', 'Pós-graduação', 'Graduação', 'Cursos Técnicos', 'Cursos Livres', 'Aprendiz SENAI', 'Cursos Livres', 'Pós-graduação', 'Graduação', 'Aprendiz SENAI', 'Cursos Técnicos', 'Cursos Livres', 'Pós-graduação', 'Aprendiz SENAI', 'Cursos Técnicos', 'Cursos Livres', 'Pós-graduação', 'Graduação', 'Aprendiz SENAI', 'Cursos Técnicos', 'Processo Seletivo', 'Aprendizagem Industrial Comunidade', 'Cursos Técnicos', 'Cursos Superiores', 'Aprendizagem Industrial Empresas', 'Técnicos Semipresenciais', 'O SENAI', 'O SENAI-SP', 'Responsabilidade Social', 'SENAI-SP Editora', 'Imprensa', 'Ações Inclusivas', 'Educação Online', 'Conselho', 'Relatório de Atividades', 'Faculdade', 'Patronos', 'Atos Autorizativos', 'Vídeos', 'Autenticidade de Documentos', 'Estágios', 'Para a sua empresa', 'Transformação Digital para a Indústria', 'Empreendedorismo Industrial', 'Seja parceiro do SENAI-SP', 'Inovação e Tecnologia', 'Rede de Metrologia - Laboratórios', 'Licitações', 'Escolas Móveis', 'Unidades', 'Transparência', 'Transparência SENAI', 'Prestação de contas TCU', 'Fale conosco', 'search\\nLink para busca do site', 'person_outline\\xa0sou aluno', 'person_outline\\xa0Área do Aluno', 'search\\nLink para busca do site', 'Cursos', 'search Pesquisa Todos', 'Administração e Gestão', 'Cursos Livres', 'Pós-graduação', 'Graduação', 'Aprendiz SENAI', 'Cursos Técnicos', 'Alimentos e Bebidas', 'Cursos Livres', 'Pós-graduação', 'Graduação', 'Aprendiz SENAI', 'Cursos Técnicos', 'Construção Civil e Design de Mobiliário', 'Cursos Livres', 'Pós-graduação', 'Aprendiz SENAI', 'Cursos Técnicos', 'Design de Moda, Têxtil, Vestuário, Calçados e Joalheria', 'Cursos Livres', 'Graduação', 'Pós-graduação', 'Aprendiz SENAI', 'Cursos Técnicos', 'Design Gráfico, Papel, Celulose, Gráfica e Editorial', 'Cursos Livres', 'Pós-graduação', 'Graduação', 'Aprendiz SENAI', 'Cursos Técnicos', 'Fabricação Mecânica e Mecânica Industrial', 'Cursos Livres', 'Pós-graduação', 'Graduação', 'Aprendiz SENAI', 'Cursos Técnicos', 'Logística e Transporte', 'Cursos Livres', 'Pós-graduação', 'Aprendiz SENAI', 'Cursos Técnicos', 'Mecânica Automotiva', 'Cursos Livres', 'Pós-graduação', 'Graduação', 'Aprendiz SENAI', 'Cursos Técnicos', 'Mecatrônica, Sistemas de Automação, Energia e Eletrônica', 'Cursos Livres', 'Pós-graduação', 'Graduação', 'Aprendiz SENAI', 'Cursos Técnicos', 'Meio Ambiente, Saúde e Segurança do Trabalho', 'Cursos Livres', 'Pós-graduação', 'Graduação', 'Cursos Técnicos', 'Metalurgia e Soldagem', 'Cursos Livres', 'Aprendiz SENAI', 'Química, Cerâmica e Plásticos', 'Cursos Livres', 'Pós-graduação', 'Graduação', 'Aprendiz SENAI', 'Cursos Técnicos', 'Refrigeração e Climatização', 'Cursos Livres', 'Pós-graduação', 'Aprendiz SENAI', 'Cursos Técnicos', 'Tecnologia da Informação e Informática', 'Cursos Livres', 'Pós-graduação', 'Graduação', 'Aprendiz SENAI', 'Cursos Técnicos', 'Processo Seletivo', 'Aprendizagem Industrial Comunidade', 'Cursos Técnicos', 'Cursos Superiores', 'Aprendizagem Industrial Empresas', 'Técnicos Semipresenciais', 'O SENAI', 'O SENAI-SP', 'Responsabilidade Social', 'SENAI-SP Editora', 'Imprensa', 'Ações Inclusivas', 'Educação Online', 'Conselho', 'Relatório de Atividades', 'Faculdade', 'Patronos', 'Atos Autorizativos', 'Vídeos', 'Autenticidade de Documentos', 'Estágios', 'Para a sua empresa', 'Transformação Digital para a Indústria', 'Empreendedorismo Industrial', 'Seja parceiro do SENAI-SP', 'Inovação e Tecnologia', 'Rede de Metrologia - Laboratórios', 'Licitações', 'Escolas Móveis', 'Unidades', 'Transparência', 'Transparência SENAI', 'Prestação de contas TCU', 'Fale conosco', 'person_outlineÁrea do Aluno', 'Processo Seletivo - Aprendizagem Industrial - Comunidade', 'SENAI-SP e Suíça celebram 50 anos de parceria em educação, inovação e tecnologia', 'FIESP e SENAI-SP lançam laboratório cibernético e acordo de cooperação técnica contra ataques', 'Diplomatas brasileiros visitam o SENAI-SP para conhecer mais sobre o trabalho e as iniciativas da instituição', 'Dia da Educação', 'Jornada de Transformação Digital', 'Conheça 11 tecnologias para o futuro da indústria', 'Anterior', 'Próximo', 'Processo Seletivo - Aprendizagem Industrial - Comunidade', 'SENAI-SP e Suíça celebram 50 anos de parceria em educação, inovação e tecnologia', 'FIESP e SENAI-SP lançam laboratório cibernético e acordo de cooperação técnica contra ataques', 'Diplomatas brasileiros visitam o SENAI-SP para conhecer mais sobre o trabalho e as iniciativas da instituição', 'Dia da Educação', 'Jornada de Transformação Digital', 'Conheça 11 tecnologias para o futuro da indústria', 'Anterior', 'Próximo', 'Pesquisar Todos', 'Administração e Gestão', 'Alimentos e Bebidas', 'Construção Civil e Design de Mobiliário', 'Design de Moda, Têxtil, Vestuário, Calçados e\\r\\n                                    Joalheria', 'Design Gráfico, Papel, Celulose, Gráfica e\\r\\n                                    Editorial', 'Fabricação Mecânica e Manutenção Industrial', 'Logística e Transporte', 'Mecânica Automotiva', 'Mecatrônica, Sistemas de Automação, Energia e\\r\\n                                    Eletrônica', 'Meio Ambiente, Saúde e Segurança do Trabalho', 'Metalurgia e Soldagem', 'Química, Cerâmica e Plásticos', 'Refrigeração e Climatização', 'Tecnologia da Informação e Informática', '', '', 'Notícias', '', '', '', '', '', 'Anterior', 'Próximo', '', '', '', '', '', 'Anterior', 'Próximo', 'Política de\\r\\n                Privacidade', 'FALE CONOSCO', 'TRABALHE CONOSCO', 'OUVIDORIA', 'POLÍTICA DE PRIVACIDADE', 'A LGPD NO SENAI-SP', 'facebook', '', 'youtube', 'Linkedin', '', 'Unidades', 'O SENAI', 'Perguntas Frequentes', 'Fale Conosco', 'Transparência', 'Para a sua empresa']\n"
          ]
        }
      ],
      "source": [
        "#web scraping\n",
        "import requests as rq\n",
        "from bs4 import BeautifulSoup as BS\n",
        "\n",
        "header = {'User-agent':''}\n",
        "url = 'https://www.sp.senai.br'\n",
        "request = rq.get(url, headers=header)\n",
        "request.encoding = request.apparent_encoding\n",
        "content = BS(request.text)\n",
        "\n",
        "#pegar os cursos disponiveis\n",
        "cursos = []\n",
        "for título in content.find_all('ul' and 'li' and 'a'):\n",
        "    cursos.append(título.get_text().strip())\n",
        "#lista de cursos\n",
        "print(cursos)"
      ]
    },
    {
      "cell_type": "code",
      "execution_count": null,
      "metadata": {
        "colab": {
          "base_uri": "https://localhost:8080/"
        },
        "outputId": "3ffced57-b1b5-4698-b36f-9c6386912227",
        "id": "eIIYXnUtQKe1"
      },
      "outputs": [
        {
          "output_type": "stream",
          "name": "stdout",
          "text": [
            "#start-of-content\n",
            "https://github.com/\n",
            "/signup?ref_cta=Sign+up&ref_loc=header+logged+out&ref_page=%2F%3Cuser-name%3E&source=header\n",
            "/features/actions\n",
            "/features/packages\n",
            "/features/security\n",
            "/features/codespaces\n",
            "/features/copilot\n",
            "/features/code-review\n",
            "/features/issues\n",
            "/features/discussions\n",
            "/features\n",
            "https://docs.github.com\n",
            "https://skills.github.com/\n",
            "https://github.blog\n",
            "/enterprise\n",
            "/team\n",
            "/enterprise/startups\n",
            "https://education.github.com\n",
            "/solutions/ci-cd/\n",
            "https://resources.github.com/devops/\n",
            "https://resources.github.com/devops/fundamentals/devsecops/\n",
            "/customer-stories\n",
            "https://resources.github.com/\n",
            "/sponsors\n",
            "/readme\n",
            "/topics\n",
            "/trending\n",
            "/collections\n",
            "/pricing\n",
            "\n",
            "\n",
            "\n",
            "\n",
            "/login?return_to=https%3A%2F%2Fgithub.com%2Fdieguesmosken\n",
            "/signup?ref_cta=Sign+up&ref_loc=header+logged+out&ref_page=%2F%3Cuser-name%3E&source=header\n",
            "/login?return_to=https%3A%2F%2Fgithub.com%2Fdieguesmosken\n",
            "/dieguesmosken\n",
            "/dieguesmosken?tab=repositories\n",
            "/dieguesmosken?tab=projects\n",
            "/dieguesmosken?tab=packages\n",
            "/dieguesmosken?tab=stars\n",
            "/dieguesmosken?tab=sponsoring\n",
            "/dieguesmosken\n",
            "/dieguesmosken?tab=repositories\n",
            "/dieguesmosken?tab=projects\n",
            "/dieguesmosken?tab=packages\n",
            "/dieguesmosken?tab=stars\n",
            "/dieguesmosken?tab=sponsoring\n",
            "/login?return_to=https%3A%2F%2Fgithub.com%2Fdieguesmosken\n",
            "https://avatars.githubusercontent.com/u/69434680?v=4\n",
            "/login?return_to=https%3A%2F%2Fgithub.com%2Fdieguesmosken\n",
            "/sponsors/dieguesmosken\n",
            "https://github.com/dieguesmosken?tab=followers\n",
            "https://github.com/dieguesmosken?tab=following\n",
            "http://linkedin.com/in/dieguesmosken\n",
            "https://twitter.com/dieguesmosken\n",
            "https://instagram.com/matheus.diegues\n",
            "https://dieguesmosken.github.io\n",
            "https://dev.to/dieguesmosken/\n",
            "/ekscrypto\n",
            "/dieguesmosken?tab=achievements\n",
            "/dieguesmosken?achievement=public-sponsor&tab=achievements\n",
            "/dieguesmosken?achievement=yolo&tab=achievements\n",
            "/dieguesmosken?achievement=quickdraw&tab=achievements\n",
            "/dieguesmosken?achievement=pull-shark&tab=achievements\n",
            "/orgs/community/discussions/categories/profile\n",
            "/dieguesmosken?tab=achievements\n",
            "/dieguesmosken?achievement=public-sponsor&tab=achievements\n",
            "/dieguesmosken?achievement=yolo&tab=achievements\n",
            "/dieguesmosken?achievement=quickdraw&tab=achievements\n",
            "/dieguesmosken?achievement=pull-shark&tab=achievements\n",
            "/orgs/community/discussions/categories/profile\n",
            "/Projeto-Hippotec\n",
            "https://docs.github.com/en/articles/blocking-a-user-from-your-personal-account\n",
            "https://docs.github.com/en/articles/reporting-abuse-or-spam\n",
            "/contact/report-abuse?report=dieguesmosken+%28user%29\n",
            "/dieguesmosken\n",
            "/dieguesmosken?tab=repositories\n",
            "/dieguesmosken?tab=projects\n",
            "/dieguesmosken?tab=packages\n",
            "/dieguesmosken?tab=stars\n",
            "/dieguesmosken?tab=sponsoring\n",
            "/dieguesmosken\n",
            "/dieguesmosken?tab=repositories\n",
            "/dieguesmosken?tab=projects\n",
            "/dieguesmosken?tab=packages\n",
            "/dieguesmosken?tab=stars\n",
            "/dieguesmosken?tab=sponsoring\n",
            "/dieguesmosken/dieguesmosken\n",
            "https://camo.githubusercontent.com/a737cd0db6a92332eefea8a742af8bfc181cd97b13a5d07563fe343bd45898f4/68747470733a2f2f696d672e736869656c64732e696f2f62616467652f5465757a696e797462722d5465757a696e595442522d626c7565\n",
            "https://camo.githubusercontent.com/4ad0e6a7e7251930d54d1713cf52bef50857bb2e999810e5f5f78e7b1e2c6fd1/68747470733a2f2f696d672e736869656c64732e696f2f6769746875622f7265706f2d73697a652f646965677565736d6f736b656e2f646965677565736d6f736b656e2e6769746875622e696f3f6c6162656c3d506f7274666f6c696f25323046696c6525323053697a65266c6f676f3d54616d616e686f253230646f253230506f7274666f6c696f\n",
            "https://camo.githubusercontent.com/5955dccd6884276b6d37552f41d6d17f9f4834c1ef979e8091411bd1fcee54a6/68747470733a2f2f696d672e736869656c64732e696f2f6769746875622f6c616e6775616765732f636f756e742f646965677565736d6f736b656e2f646965677565736d6f736b656e2e6769746875622e696f\n",
            "https://camo.githubusercontent.com/8740bb8fd2dc773a54b2fd5c50072efba0ce85d1c5bf87c194d633e75befc48f/68747470733a2f2f696d672e736869656c64732e696f2f6769746875622f6c616e6775616765732f746f702f646965677565736d6f736b656e2f646965677565736d6f736b656e2e6769746875622e696f\n",
            "https://camo.githubusercontent.com/c9cc84e9502520a003995b16325ed3e49f5e1e38f601b8444605921697974f7a/68747470733a2f2f696d672e736869656c64732e696f2f6769746875622f6c6963656e73652f646965677565736d6f736b656e2f646965677565736d6f736b656e2e6769746875622e696f\n",
            "https://camo.githubusercontent.com/d65ed71735d172c76c81b45c93a878717285f68d8b61f4fbfd0c1eda01af7432/68747470733a2f2f696d672e736869656c64732e696f2f646174652f313032393432363630303f6c6162656c3d49253230776173253230626f726e\n",
            "https://wakatime.com/@31c8cd4b-9191-483c-b3b6-c1c3a6f23a70\n",
            "#sobre-mim\n",
            "#linguagens-e-ferramentas\n",
            "https://raw.githubusercontent.com/github/explore/80688e429a7d4ef2fca1e82350fe8e3517d3494d/topics/javascript/javascript.png\n",
            "https://raw.githubusercontent.com/github/explore/80688e429a7d4ef2fca1e82350fe8e3517d3494d/topics/html/html.png\n",
            "https://raw.githubusercontent.com/github/explore/80688e429a7d4ef2fca1e82350fe8e3517d3494d/topics/css/css.png\n",
            "https://raw.githubusercontent.com/github/explore/80688e429a7d4ef2fca1e82350fe8e3517d3494d/topics/java/java.png\n",
            "https://raw.githubusercontent.com/github/explore/80688e429a7d4ef2fca1e82350fe8e3517d3494d/topics/python/python.png\n",
            "https://raw.githubusercontent.com/github/explore/80688e429a7d4ef2fca1e82350fe8e3517d3494d/topics/csharp/csharp.png\n",
            "https://raw.githubusercontent.com/github/explore/80688e429a7d4ef2fca1e82350fe8e3517d3494d/topics/mysql/mysql.png\n",
            "https://raw.githubusercontent.com/github/explore/80688e429a7d4ef2fca1e82350fe8e3517d3494d/topics/git/git.png\n",
            "https://raw.githubusercontent.com/github/explore/80688e429a7d4ef2fca1e82350fe8e3517d3494d/topics/discord/discord.png\n",
            "https://camo.githubusercontent.com/779b5de1ca57191938aa4b79653e3ae9c7cefd77f9ea42458c318b7919ba85b0/68747470733a2f2f696d672e69636f6e73382e636f6d2f636f6c6f722f35302f3030303030302f76697375616c2d73747564696f2d636f64652d323031392e706e67\n",
            "https://raw.githubusercontent.com/github/explore/80688e429a7d4ef2fca1e82350fe8e3517d3494d/topics/terminal/terminal.png\n",
            "#redes-sociais\n",
            "https://www.linkedin.com/in/dieguesmosken/\n",
            "https://api.whatsapp.com/send?phone=5513997121709\n",
            "https://www.instagram.com/matheus.diegues/\n",
            "https://dev.to/dieguesmosken/\n",
            "mailto:dmosken2015@gmail.com\n",
            "https://fb.com/dieguesmosken\n",
            "https://t.me/dieguesmosken\n",
            "https://twitter.com/dieguesmosken\n",
            "#atividade-do-github\n",
            "https://camo.githubusercontent.com/a96fc7125e34d1623769da21c09d76293a4204ff7fc02da86cc119ab0dc8adc7/68747470733a2f2f696d672e736869656c64732e696f2f6769746875622f636f6d6d69742d61637469766974792f6d2f646965677565736d6f736b656e2f646965677565736d6f736b656e2e6769746875622e696f\n",
            "https://camo.githubusercontent.com/87d562cd1b2c7a2c31346f9c42f0b32c0b87ed41cc171b1a0b24d63289672ec3/68747470733a2f2f696d672e736869656c64732e696f2f6769746875622f73746172732f646965677565736d6f736b656e3f7374796c653d736f6369616c\n",
            "https://camo.githubusercontent.com/c334e79e6aebf77d5c91f8fd8bcba0e05d1de7c87a48785141bc03b8897e1884/68747470733a2f2f70726f66696c652d636f756e7465722e676c697463682e6d652f646965677565736d6f736b656e2f636f756e742e737667\n",
            "https://holopin.io/@dieguesmosken\n",
            "https://dieguesmosken.github.io\n",
            "https://dieguesmosken.github.io\n",
            "https://dieguesmosken.github.io\n",
            "https://gist.github.com/dieguesmosken/5fce07e3a04e355092e06ba7dbcf25f1\n",
            "https://gist.github.com/dieguesmosken/535adcbdc6e82533722d19853b6c06d4\n",
            "/dieguesmosken/hippotec-1\n",
            "/shyga362/hippotec\n",
            "/dieguesmosken/hippotec-1/stargazers\n",
            "/dieguesmosken/WebAppsHTML\n",
            "/dieguesmosken/WebAppsHTML/stargazers\n",
            "/dieguesmosken/PR-Patches-Campus-Party\n",
            "/education/PR-Patches-Campus-Party\n",
            "/dieguesmosken/PR-Patches-Campus-Party/stargazers\n",
            "/dieguesmosken/dieguesmosken.github.io\n",
            "/dieguesmosken/dieguesmosken.github.io/stargazers\n",
            "https://docs.github.com/articles/why-are-my-contributions-not-showing-up-on-my-profile\n",
            "/dieguesmosken?tab=overview&org=reactjs\n",
            "/dieguesmosken?tab=overview&org=education\n",
            "/dieguesmosken?tab=overview&org=Abacatinhos\n",
            "/dieguesmosken/Projetos_Python\n",
            "/dieguesmosken/dieguesmosken\n",
            "/dieguesmosken/speedtest-monitor\n",
            "https://docs.github.com/categories/setting-up-and-managing-your-github-profile\n",
            "/dieguesmosken?tab=overview&from=2023-06-01&to=2023-06-01\n",
            "/dieguesmosken?tab=overview&from=2022-12-01&to=2022-12-31\n",
            "/dieguesmosken?tab=overview&from=2021-12-01&to=2021-12-31\n",
            "/dieguesmosken?tab=overview&from=2020-12-01&to=2020-12-31\n",
            "https://github.com\n",
            "https://docs.github.com/site-policy/github-terms/github-terms-of-service\n",
            "https://docs.github.com/site-policy/privacy-policies/github-privacy-statement\n",
            "https://github.com/security\n",
            "https://www.githubstatus.com/\n",
            "https://docs.github.com\n",
            "https://support.github.com?tags=dotcom-footer\n",
            "https://github.com/pricing\n",
            "https://docs.github.com\n",
            "https://services.github.com\n",
            "https://github.blog\n",
            "https://github.com/about\n",
            "\n",
            "\n"
          ]
        }
      ],
      "source": [
        "#web scraping\n",
        "import requests as rq\n",
        "from bs4 import BeautifulSoup as BS\n",
        "\n",
        "header = {'User-agent':''}\n",
        "url = 'https://github.com/dieguesmosken'\n",
        "request = rq.get(url, headers=header)\n",
        "request.encoding = request.apparent_encoding\n",
        "content = BS(request.text)\n",
        "lista = []\n",
        "for link in content.find_all(\"a\"):\n",
        "\n",
        "\n"
      ]
    },
    {
      "cell_type": "code",
      "source": [
        "#web scraping\n",
        "import requests as rq\n",
        "from bs4 import BeautifulSoup as BS\n",
        "\n",
        "header = {'User-agent':'Mozilla/5.0'}\n",
        "url = 'https://www.sp.senai.br/cursos'\n",
        "request = rq.get(url, headers=header)\n",
        "request.encoding = request.apparent_encoding\n",
        "content = BS(request.text)\n",
        "\n",
        "#pegar os cursos disponiveis\n",
        "cursos = []\n",
        "for título in content.find_all('h5'):\n",
        "    cursos.append(título.get_text().strip())\n",
        "#lista de cursos\n",
        "print(cursos)"
      ],
      "metadata": {
        "colab": {
          "base_uri": "https://localhost:8080/"
        },
        "id": "VwbHRh1q_icc",
        "outputId": "d1e7cef8-6d71-46ef-ef92-e19457302454"
      },
      "execution_count": null,
      "outputs": [
        {
          "output_type": "stream",
          "name": "stdout",
          "text": [
            "['', '5S', 'Acionamento Eletrônico de Máquinas Elétricas', 'Adaptação de Moldes Industriais de Blusas', 'Adaptação de Moldes Industriais de Calças', 'Adaptação de Moldes Industriais de Saias', 'Adaptação de Moldes Industriais de Vestidos', 'Administração da Manutenção', 'AJUSTADOR MECÂNICO', 'Ajustador Mecânico', 'Alimentos Funcionais']\n"
          ]
        }
      ]
    },
    {
      "cell_type": "code",
      "source": [
        "#web scraping\n",
        "import requests as rq\n",
        "from bs4 import BeautifulSoup as BS\n",
        "\n",
        "header = {'User-agent':'Mozilla/5.0'}\n",
        "url = 'https://hipp0tec.000webhostapp.com/'\n",
        "request = rq.get(url, headers=header)\n",
        "request.encoding = request.apparent_encoding\n",
        "content = BS(request.text)\n",
        "\n",
        "#pegar os cursos disponiveis\n",
        "titulos = []\n",
        "textos = []\n",
        "for título in content.find_all('div' and 'h1'):\n",
        "    titulos.append(título.get_text().strip())\n",
        "for texto in content.find_all('div' and 'p'):\n",
        "    textos.append(texto.get_text().strip())\n",
        "#lista de cursos\n",
        "print(titulos)\n",
        "print(\"-=\"*15)\n",
        "print(textos)"
      ],
      "metadata": {
        "colab": {
          "base_uri": "https://localhost:8080/"
        },
        "outputId": "d668881a-5344-4e00-efef-adc083d9b3c4",
        "id": "_Jn1m9fNEsFk"
      },
      "execution_count": null,
      "outputs": [
        {
          "output_type": "stream",
          "name": "stdout",
          "text": [
            "['BEM VINDO!', 'HIPPOTEC', 'QUAL O INTUITO DO APLICATIVO ?', 'Hippotec 2021 ©']\n",
            "-=-=-=-=-=-=-=-=-=-=-=-=-=-=-=\n",
            "['MAIS SAÚDE PARA VOCÊ', 'HIPPOTEC PROCURA APROXIMAR A INFORMAÇÃO PARA O CIDADÃO E O DISTANCIAR DOS\\r\\n                    RISCOS.', 'Powered by Dieguesmosken ©']\n"
          ]
        }
      ]
    },
    {
      "cell_type": "code",
      "source": [
        "#web scraping\n",
        "import requests as rq\n",
        "from bs4 import BeautifulSoup as BS\n",
        "\n",
        "header = {'User-agent':'Mozilla/5.0'}\n",
        "url = 'https://rgt.ifsp.edu.br/portal/'\n",
        "request = rq.get(url, headers=header)\n",
        "request.encoding = request.apparent_encoding\n",
        "content = BS(request.text)\n",
        "\n",
        "#pegar os cursos disponiveis\n",
        "titulos = []\n",
        "textos = []\n",
        "for titulo in content.find_all('div' and 'h1'):\n",
        "    if titulo.get_text().strip() != '': \n",
        "        titulos.append(titulo.get_text().strip())\n",
        "for texto in content.find_all('div' and 'h2'):\n",
        "    if texto.get_text().strip() != '':\n",
        "        textos.append(texto.get_text().strip())\n",
        "#lista de cursos\n",
        "print(titulos)\n",
        "print(\"-=\"*15)\n",
        "print(textos)"
      ],
      "metadata": {
        "colab": {
          "base_uri": "https://localhost:8080/"
        },
        "outputId": "00102f61-946b-4a5f-d579-f3f8ced9f895",
        "id": "mHdPLfUTHmFE"
      },
      "execution_count": null,
      "outputs": [
        {
          "output_type": "stream",
          "name": "stdout",
          "text": [
            "['Câmpus Registro']\n",
            "-=-=-=-=-=-=-=-=-=-=-=-=-=-=-=\n",
            "['Opções de acessibilidade', 'Buscar no portal', 'Buscar no portal', 'Redes Sociais', 'Serviços', 'Em destaque', 'Sobre o Câmpus', 'Cursos', 'Licitações', 'Coordenadorias', 'Horários de Atendimento', 'Biblioteca', 'CONCAM', 'Eventos', 'Grupos', 'Central de conteúdos', 'Comunicados', 'Oportunidades', 'Notícias', 'Astronomia para as crianças da EMEB Anna Banks Pinto', '[CONVITE] Espaço de Reflexão sobre Violência, Cuidado e Saúde nas Escolas', 'EDITAL DRG/RGT n° 018/2023 - CURSO DE EXTENSÃO', 'Agenda da Autoridade', 'Consulte o cadastro do IFSP no e-MEC', 'Sobre o Câmpus', 'Redes Sociais', 'Coordenadorias', 'RSS', 'Sobre o site']\n"
          ]
        }
      ]
    }
  ]
}