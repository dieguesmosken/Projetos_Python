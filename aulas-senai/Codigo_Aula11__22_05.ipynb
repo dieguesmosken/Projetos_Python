{
  "cells": [
    {
      "cell_type": "markdown",
      "metadata": {
        "id": "view-in-github",
        "colab_type": "text"
      },
      "source": [
        "<a href=\"https://colab.research.google.com/github/dieguesmosken/Projetos_Python/blob/aula-python/Codigo_Aula11__22_05.ipynb\" target=\"_parent\"><img src=\"https://colab.research.google.com/assets/colab-badge.svg\" alt=\"Open In Colab\"/></a>"
      ]
    },
    {
      "cell_type": "markdown",
      "metadata": {
        "id": "5z77ruhQlw-1"
      },
      "source": [
        "### dia 22/05\n",
        "> Aula 11\n",
        "---\n"
      ]
    },
    {
      "cell_type": "code",
      "execution_count": null,
      "metadata": {
        "colab": {
          "base_uri": "https://localhost:8080/"
        },
        "id": "g7ZLnjaZlppV",
        "outputId": "1efaef27-c5a2-4207-a530-b01ce486a155"
      },
      "outputs": [
        {
          "name": "stdout",
          "output_type": "stream",
          "text": [
            "<class 'dict'>\n",
            "valor1\n",
            "{'chave1': 'valor1', 'chave3': 'valor3'}\n",
            "baseCopia1: {'chave1': 'valor1', 'chave3': 'valor3'}\n",
            "Copiar2: {'chaveA': 'valorA', 'chaveB': 'valorB', 'chaveC': 'valorC'}\n",
            "Remover o último item: {'chave1': 'valor1'}\n",
            "ÍTENS: dict_items([('chave1', 'valor1')])\n",
            "<class 'dict_items'>\n",
            "<class 'dict'>\n"
          ]
        }
      ],
      "source": [
        "## to perdidoooo\n",
        "# Definição do dicionário base1\n",
        "base1 = {\n",
        "    \"chave1\": \"valor1\",\n",
        "    \"chave2\": \"valor2\",\n",
        "    \"chave3\": \"valor3\"\n",
        "}\n",
        "\n",
        "# Definição do dicionário base2\n",
        "base2 = {\n",
        "    \"chaveA\": \"valorA\",\n",
        "    \"chaveB\": \"valorB\",\n",
        "    \"chaveC\": \"valorC\"\n",
        "}\n",
        "\n",
        "print(type(base2))  # Pegar o tipo de dado da variável base2\n",
        "\n",
        "# Pegar uma informação\n",
        "print(base1[\"chave1\"])  # Substitua \"chave1\" pela chave específica que você deseja obter\n",
        "\n",
        "# Deletar dados\n",
        "base1.pop(\"chave2\")\n",
        "print(base1)\n",
        "\n",
        "# Copiar uma base de dados inteira\n",
        "nova_base = base1.copy()\n",
        "print(f'baseCopia1: {nova_base}')\n",
        "\n",
        "nova_base2 = dict(base2)\n",
        "print(f'Copiar2: {nova_base2}')\n",
        "\n",
        "# Remover o último item do dicionário\n",
        "base1.popitem()\n",
        "print(f'Remover o último item: {base1}')\n",
        "\n",
        "# Listar todos os itens\n",
        "print(f'ÍTENS: {base1.items()}')\n",
        "\n",
        "x = base1.items()\n",
        "print(type(x))\n",
        "print(type(base2))\n",
        "\n"
      ]
    },
    {
      "cell_type": "markdown",
      "metadata": {
        "id": "EVf5yKC-vYo2"
      },
      "source": [
        "## ***-=-=-=-=-*** RegEX ***-=-=-=-=-***"
      ]
    },
    {
      "cell_type": "code",
      "execution_count": null,
      "metadata": {
        "colab": {
          "base_uri": "https://localhost:8080/"
        },
        "id": "IV98HJbrvXyX",
        "outputId": "43cabc61-d41b-4dcf-8ca3-a15ecef8db72"
      },
      "outputs": [
        {
          "name": "stdout",
          "output_type": "stream",
          "text": [
            "Insira um termo: dia\n",
            "Termo encontrado\n"
          ]
        }
      ],
      "source": [
        "# -=-=-=-=- RegEX -=-=-=-=-\n",
        "# Expressão Regular\n",
        "import re\n",
        "termo = input(\"Insira um termo: \")\n",
        "texto = \"Hoje é dia de curso de Python\"\n",
        "#busca = re.search(\"^Hoje.*Python\", texto)\n",
        "busca = re.search(termo, texto)\n",
        "\n",
        "if busca:\n",
        "    print(f\"Termo encontrado\")\n",
        "else:\n",
        "    print(\"Termo não encontrado\")\n"
      ]
    },
    {
      "cell_type": "code",
      "execution_count": null,
      "metadata": {
        "colab": {
          "base_uri": "https://localhost:8080/"
        },
        "id": "17eOpthMaMWu",
        "outputId": "b0bc3a5e-9faa-4b3b-ef79-0d94af5e3683"
      },
      "outputs": [
        {
          "name": "stdout",
          "output_type": "stream",
          "text": [
            "(13) 99712-1709\n",
            "(13) 99609-1415\n",
            "(13) 99703-3993\n"
          ]
        }
      ],
      "source": [
        "import re\n",
        "\n",
        "# Texto de exemplo\n",
        "texto = \"Olá,meu nome é matheus meu número de telefone é (13) 99712-1709. Entre em contato! tbm tenho o numero (13) 99609-1415 e o (13) 99703-3993\"\n",
        "\n",
        "# Padrão regex para encontrar números de telefone no formato (ddd) xxx-xxxx\n",
        "padrao = r\"\\(\\d{2}\\) \\d{5}-\\d{4}\"\n",
        "\n",
        "# Procurar o padrão no texto usando a função re.findall()\n",
        "numeros_telefone = re.findall(padrao, texto)\n",
        "\n",
        "# Imprimir os números encontrados\n",
        "for numero in numeros_telefone:\n",
        "    print(numero)\n"
      ]
    },
    {
      "cell_type": "code",
      "execution_count": null,
      "metadata": {
        "colab": {
          "base_uri": "https://localhost:8080/"
        },
        "id": "AqMOdDGPa7rb",
        "outputId": "ea573956-c1bb-4470-e61f-c9cf05f35f2b"
      },
      "outputs": [
        {
          "name": "stdout",
          "output_type": "stream",
          "text": [
            "matheus.diegues@outlook.com\n",
            "contato@hippotec.com.br\n"
          ]
        }
      ],
      "source": [
        "import re\n",
        "\n",
        "# Texto de exemplo\n",
        "texto = \"Entre em contato comigo pelo email: matheus.diegues@outlook.com ou contato@hippotec.com.br\"\n",
        "\n",
        "# Padrão regex para encontrar endereços de email\n",
        "padrao = r\"\\b[A-Za-z0-9._%+-]+@[A-Za-z0-9.-]+\\.[A-Za-z]{2,}\\b\"\n",
        "\n",
        "# Procurar o padrão no texto usando a função re.findall()\n",
        "emails = re.findall(padrao, texto)\n",
        "\n",
        "# Imprimir os emails encontrados\n",
        "for email in emails:\n",
        "    print(email)\n"
      ]
    },
    {
      "cell_type": "code",
      "execution_count": null,
      "metadata": {
        "colab": {
          "base_uri": "https://localhost:8080/"
        },
        "id": "PmpK0Z15bPS9",
        "outputId": "84def289-3af6-4a73-973c-fd360ba2b83c"
      },
      "outputs": [
        {
          "name": "stdout",
          "output_type": "stream",
          "text": [
            "A cachorro preta pulou no muro.\n"
          ]
        }
      ],
      "source": [
        "import re\n",
        "\n",
        "# Texto de exemplo\n",
        "texto = \"A gata preta pulou no muro.\"\n",
        "\n",
        "# Padrão regex para encontrar a palavra \"gata\"\n",
        "padrao = r\"\\bgata\\b\"\n",
        "\n",
        "# Substituir a palavra \"gata\" por \"cachorro\"\n",
        "novo_texto = re.sub(padrao, \"cachorro\", texto)\n",
        "\n",
        "# Imprimir o texto modificado\n",
        "print(novo_texto)\n"
      ]
    },
    {
      "cell_type": "code",
      "execution_count": null,
      "metadata": {
        "colab": {
          "base_uri": "https://localhost:8080/"
        },
        "id": "zO9OvK2lblJz",
        "outputId": "97bd2103-6253-4dcf-d1a3-77f5b012743e"
      },
      "outputs": [
        {
          "name": "stdout",
          "output_type": "stream",
          "text": [
            "Eu tenho uma laranja e uma morango. A laranja é vermelha e a morango é amarela.\n"
          ]
        }
      ],
      "source": [
        "import re\n",
        "\n",
        "# Texto de exemplo\n",
        "texto = \"Eu tenho uma maçã e uma banana. A maçã é vermelha e a banana é amarela.\"\n",
        "\n",
        "# Padrão regex para encontrar as palavras \"maçã\" e \"banana\"\n",
        "padrao = r\"\\b(maçã|banana)\\b\"\n",
        "\n",
        "# Substituir \"maçã\" por \"laranja\" e \"banana\" por \"morango\"\n",
        "novo_texto = re.sub(padrao, lambda match: \"laranja\" if match.group(0) == \"maçã\" else \"morango\", texto)\n",
        "\n",
        "# Imprimir o texto modificado\n",
        "print(novo_texto)\n"
      ]
    },
    {
      "cell_type": "code",
      "execution_count": null,
      "metadata": {
        "colab": {
          "base_uri": "https://localhost:8080/"
        },
        "id": "YCsHSCBD4TGr",
        "outputId": "eedc1408-184f-4132-c450-a55493f4efc2"
      },
      "outputs": [
        {
          "name": "stdout",
          "output_type": "stream",
          "text": [
            "O\n",
            "X\n",
            "O\n",
            "X\n",
            "O\n",
            "X\n",
            "O\n",
            "X\n",
            "O\n",
            "X\n"
          ]
        }
      ],
      "source": [
        "inicio = 1\n",
        "for i in range(inicio,11):\n",
        "    if i // 2 * 2 == i:\n",
        "        print(\"X\")\n",
        "    else:\n",
        "        print(\"O\")"
      ]
    },
    {
      "cell_type": "markdown",
      "metadata": {
        "id": "u5nUKik4AXHg"
      },
      "source": [
        "### buguei"
      ]
    },
    {
      "cell_type": "code",
      "execution_count": null,
      "metadata": {
        "colab": {
          "base_uri": "https://localhost:8080/",
          "height": 132
        },
        "id": "nXvDaGamAWgg",
        "outputId": "f658a5ad-4550-442b-c88e-4d99dcc2d596"
      },
      "outputs": [
        {
          "ename": "SyntaxError",
          "evalue": "ignored",
          "output_type": "error",
          "traceback": [
            "\u001b[0;36m  File \u001b[0;32m\"<ipython-input-30-1e533c54707b>\"\u001b[0;36m, line \u001b[0;32m17\u001b[0m\n\u001b[0;31m    if lista3[j] not null != jg1[j]:\u001b[0m\n\u001b[0m                     ^\u001b[0m\n\u001b[0;31mSyntaxError\u001b[0m\u001b[0;31m:\u001b[0m invalid syntax\n"
          ]
        }
      ],
      "source": [
        "# teste de verificação 1 // deu errado\n",
        "jogoVencedor = [\n",
        "    [0, 1, 2],\n",
        "    [3, 4, 5],\n",
        "    [6, 7, 8],\n",
        "    [0, 3, 6],\n",
        "    [1, 4, 7],\n",
        "    [2, 5, 8],\n",
        "    [0, 4, 8],\n",
        "    [2, 4, 6]\n",
        "];\n",
        "lista3 = []\n",
        "print(f'teste: {jogoVencedor[3][2]}')\n",
        "jg1 = [0, 3, 6]\n",
        "for i in range(len(jogoVencedor)):\n",
        "    for j in range(3):\n",
        "        if jg1[j] == jogoVencedor[i][j]:\n",
        "            if ''' valor for igual'''!= jg1[j]:\n",
        "                lista3.append(jogoVencedor[i][j])\n",
        "                \n",
        "print(lista3)"
      ]
    },
    {
      "cell_type": "code",
      "execution_count": null,
      "metadata": {
        "colab": {
          "base_uri": "https://localhost:8080/"
        },
        "id": "M27a2MT7XNuX",
        "outputId": "be1109bc-8ba7-43df-c68c-72112564251c"
      },
      "outputs": [
        {
          "name": "stdout",
          "output_type": "stream",
          "text": [
            "[0, 0, 3, 6, 0, 6]\n"
          ]
        }
      ],
      "source": [
        "# teste de verificação 2 // deu errado\n",
        "\n",
        "jogoVencedor = [\n",
        "    [0, 1, 2],\n",
        "    [3, 4, 5],\n",
        "    [6, 7, 8],\n",
        "    [0, 3, 6],\n",
        "    [1, 4, 7],\n",
        "    [2, 5, 8],\n",
        "    [0, 4, 8],\n",
        "    [2, 4, 6]\n",
        "]\n",
        "\n",
        "jg1 = [0, 3, 6]\n",
        "lista3 = []\n",
        "\n",
        "for i in range(len(jogoVencedor)):\n",
        "    for j in range(3):\n",
        "        if jg1[j] == jogoVencedor[i][j]:\n",
        "            if jogoVencedor[i][j] in jg1:\n",
        "                lista3.append(jogoVencedor[i][j])\n",
        "\n",
        "print(lista3)\n"
      ]
    },
    {
      "cell_type": "code",
      "execution_count": null,
      "metadata": {
        "colab": {
          "background_save": true,
          "base_uri": "https://localhost:8080/"
        },
        "id": "FacqBFOCjd2j",
        "outputId": "bd113d6f-921b-49a4-ae23-a1858139c860"
      },
      "outputs": [
        {
          "metadata": {
            "tags": null
          },
          "name": "stdout",
          "output_type": "stream",
          "text": [
            "Tabuleiro:\n",
            "┌ ─ ─ ─ ┬ ─ ─ ─ ┬ ─ ─ ─ ┐\n",
            "|       |       |       |\n",
            "|       |       |       |\n",
            "|       |       |       |\n",
            "| ─ ─ ─ | ─ ─ ─ | ─ ─ ─ |\n",
            "|       |       |       |\n",
            "|       |       |       |\n",
            "|       |       |       |\n",
            "| ─ ─ ─ | ─ ─ ─ | ─ ─ ─ |\n",
            "|       |       |       |\n",
            "|       |       |       |\n",
            "|       |       |       |\n",
            "└ ─ ─ ─ ┴ ─ ─ ─ ┴ ─ ─ ─ ┘\n",
            "Tabuleiro:\n",
            "┌ ─ ─ ─ ┬ ─ ─ ─ ┬ ─ ─ ─ ┐\n",
            "|       |       |       |\n",
            "|       |   X   |       |\n",
            "|       |       |       |\n",
            "| ─ ─ ─ | ─ ─ ─ | ─ ─ ─ |\n",
            "|       |       |       |\n",
            "|       |       |       |\n",
            "|       |       |       |\n",
            "| ─ ─ ─ | ─ ─ ─ | ─ ─ ─ |\n",
            "|       |       |       |\n",
            "|       |       |       |\n",
            "|       |       |       |\n",
            "└ ─ ─ ─ ┴ ─ ─ ─ ┴ ─ ─ ─ ┘\n",
            "Tabuleiro:\n",
            "┌ ─ ─ ─ ┬ ─ ─ ─ ┬ ─ ─ ─ ┐\n",
            "|       |       |       |\n",
            "|       |   X   |   O   |\n",
            "|       |       |       |\n",
            "| ─ ─ ─ | ─ ─ ─ | ─ ─ ─ |\n",
            "|       |       |       |\n",
            "|       |       |       |\n",
            "|       |       |       |\n",
            "| ─ ─ ─ | ─ ─ ─ | ─ ─ ─ |\n",
            "|       |       |       |\n",
            "|       |       |       |\n",
            "|       |       |       |\n",
            "└ ─ ─ ─ ┴ ─ ─ ─ ┴ ─ ─ ─ ┘\n"
          ]
        }
      ],
      "source": [
        "\n",
        "def verificar_vitoria(tab):\n",
        "    jogo_vencedor = [\n",
        "        [0, 1, 2],\n",
        "        [3, 4, 5],\n",
        "        [6, 7, 8],\n",
        "        [0, 3, 6],\n",
        "        [1, 4, 7],\n",
        "        [2, 5, 8],\n",
        "        [0, 4, 8],\n",
        "        [2, 4, 6]\n",
        "    ]\n",
        "\n",
        "    for linha in jogo_vencedor:\n",
        "        a, b, c = linha\n",
        "        if tab[a] == tab[b] == tab[c] != \" \":\n",
        "            return True\n",
        "\n",
        "    return False\n",
        "'''┌ (Canto superior esquerdo)\n",
        "┬ (Linha horizontal superior)\n",
        "┐ (Canto superior direito)\n",
        "├ (Linha vertical no meio à esquerda)\n",
        "┼ (Cruz no meio)\n",
        "┤ (Linha vertical no meio à direita)\n",
        "└ (Canto inferior esquerdo)\n",
        "┴ (Linha horizontal inferior)\n",
        "┘ (Canto inferior direito)'''\n",
        "\n",
        "def imprimir_tabuleiro(tab):\n",
        "    print(\"Tabuleiro:\")\n",
        "    print(\"┌\", \"─\", \"─\", \"─\", \"┬\",\"─\", \"─\", \"─\", \"┬\", \"─\", \"─\", \"─\", \"┐\")\n",
        "    print(\"|\", \" \", \" \", \" \", \"|\",\" \", \" \", \" \", \"|\", \" \", \" \", \" \", \"|\")\n",
        "    print(\"|\",\" \", tab[0],\" \", \"|\",\" \", tab[1],\" \", \"|\",\" \", tab[2],\" \", \"|\")\n",
        "    print(\"|\", \" \", \" \", \" \", \"|\",\" \", \" \", \" \", \"|\", \" \", \" \", \" \", \"|\")\n",
        "    print(\"|\", \"─\", \"─\", \"─\", \"|\",\"─\", \"─\", \"─\", \"|\", \"─\", \"─\", \"─\", \"|\")\n",
        "    print(\"|\", \" \", \" \", \" \", \"|\",\" \", \" \", \" \", \"|\", \" \", \" \", \" \", \"|\")\n",
        "    print(\"|\",\" \", tab[3],\" \", \"|\",\" \", tab[4],\" \", \"|\",\" \", tab[5],\" \", \"|\")\n",
        "    print(\"|\", \" \", \" \", \" \", \"|\",\" \", \" \", \" \", \"|\", \" \", \" \", \" \", \"|\")\n",
        "    print(\"|\", \"─\", \"─\", \"─\", \"|\",\"─\", \"─\", \"─\", \"|\", \"─\", \"─\", \"─\", \"|\")\n",
        "    print(\"|\", \" \", \" \", \" \", \"|\",\" \", \" \", \" \", \"|\", \" \", \" \", \" \", \"|\")\n",
        "    print(\"|\",\" \", tab[6],\" \", \"|\",\" \", tab[7],\" \", \"|\",\" \", tab[8],\" \", \"|\")\n",
        "    print(\"|\", \" \", \" \", \" \", \"|\",\" \", \" \", \" \", \"|\", \" \", \" \", \" \", \"|\")\n",
        "    print(\"└\", \"─\", \"─\", \"─\", \"┴\",\"─\", \"─\", \"─\", \"┴\", \"─\", \"─\", \"─\", \"┘\")\n",
        "   \n",
        "\n",
        "\n",
        "def jogo_da_velha():\n",
        "    tab = [\" \", \" \", \" \", \" \", \" \", \" \", \" \", \" \", \" \"]\n",
        "    jogadores = [\"X\", \"O\"]\n",
        "    jogador = 0\n",
        "    jogo_acabou = False\n",
        "\n",
        "    while not jogo_acabou:\n",
        "        imprimir_tabuleiro(tab)\n",
        "\n",
        "   \n",
        "        # pedir ao jogador um numero de 1 a 9\n",
        "        jogada = input(\"Jogador \" + jogadores[jogador] + \", escolha uma posição (1-9): \")\n",
        "\n",
        "        # Validar a jogada se o usuario digitou somente numeros\n",
        "        if not jogada.isdigit():\n",
        "            print(\"Entrada inválida. Insira um número de 1 a 9.\")\n",
        "            continue\n",
        "        jogada = int(jogada)\n",
        "        # Validar a jogada\n",
        "        if jogada < 1 or jogada > 9:\n",
        "            print(\"Posição inválida. Tente novamente.\")\n",
        "            continue\n",
        "\n",
        "        indice_jogada = jogada - 1\n",
        "        if tab[indice_jogada] == \" \":\n",
        "            tab[indice_jogada] = jogadores[jogador]\n",
        "        else:\n",
        "            print(\"Posição já ocupada. Tente novamente.\")\n",
        "            continue\n",
        "\n",
        "        # Verificar se o jogador atual venceu\n",
        "        if verificar_vitoria(tab):\n",
        "            imprimir_tabuleiro(tab)\n",
        "            print(\"Jogador \" + jogadores[jogador] + \" venceu!\")\n",
        "            jogo_acabou = True\n",
        "        # Verificar se houve empate \n",
        "        #  ele verifica se não tem nenhum espaço vazio sobrando na lista do tabuleiro\n",
        "        elif \" \" not in tab:\n",
        "            imprimir_tabuleiro(tab)\n",
        "            print(\"O jogo terminou em empate!\")\n",
        "            jogo_acabou = True\n",
        "\n",
        "        # Alternar para o próximo jogador\n",
        "        jogador = (jogador + 1) % 2\n",
        "\n",
        "\n",
        "# Iniciar o jogo da velha\n",
        "jogo_da_velha()\n"
      ]
    },
    {
      "cell_type": "code",
      "execution_count": null,
      "metadata": {
        "colab": {
          "base_uri": "https://localhost:8080/"
        },
        "id": "GyVi010QSm1u",
        "outputId": "04ac3018-6f4c-448f-cad2-35cd732e6208"
      },
      "outputs": [
        {
          "name": "stdout",
          "output_type": "stream",
          "text": [
            "1\n",
            "0\n",
            "1\n",
            "0\n"
          ]
        }
      ],
      "source": [
        "# teste de troca de jogador\n",
        "jogador = 0\n",
        "jogador = (jogador + 1) % 2\n",
        "print(jogador)\n",
        "jogador = (jogador + 1) % 2\n",
        "print(jogador)\n",
        "jogador = (jogador + 1) % 2\n",
        "print(jogador)\n",
        "jogador = (jogador + 1) % 2\n",
        "print(jogador)\n"
      ]
    }
  ],
  "metadata": {
    "colab": {
      "provenance": [],
      "authorship_tag": "ABX9TyPLmXHIPkcGkBa1OUbI6vcu",
      "include_colab_link": true
    },
    "kernelspec": {
      "display_name": "Python 3",
      "name": "python3"
    },
    "language_info": {
      "name": "python"
    }
  },
  "nbformat": 4,
  "nbformat_minor": 0
}