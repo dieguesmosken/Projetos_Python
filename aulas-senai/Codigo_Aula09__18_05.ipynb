{
  "nbformat": 4,
  "nbformat_minor": 0,
  "metadata": {
    "colab": {
      "provenance": [],
      "authorship_tag": "ABX9TyNWIazZNXXrTG1srvQLvL2k",
      "include_colab_link": true
    },
    "kernelspec": {
      "name": "python3",
      "display_name": "Python 3"
    },
    "language_info": {
      "name": "python"
    }
  },
  "cells": [
    {
      "cell_type": "markdown",
      "metadata": {
        "id": "view-in-github",
        "colab_type": "text"
      },
      "source": [
        "<a href=\"https://colab.research.google.com/github/dieguesmosken/Projetos_Python/blob/aula-python/Codigo_Aula09__18_05.ipynb\" target=\"_parent\"><img src=\"https://colab.research.google.com/assets/colab-badge.svg\" alt=\"Open In Colab\"/></a>"
      ]
    },
    {
      "cell_type": "markdown",
      "source": [
        "### dia 18/05"
      ],
      "metadata": {
        "id": "11QPX1l_BKNx"
      }
    },
    {
      "cell_type": "code",
      "execution_count": null,
      "metadata": {
        "colab": {
          "base_uri": "https://localhost:8080/"
        },
        "id": "aweclv2HAwaH",
        "outputId": "c170099c-cacb-4d37-95ea-b9af0a2b03f3"
      },
      "outputs": [
        {
          "output_type": "stream",
          "name": "stdout",
          "text": [
            "[-30, -1, 0, 2, 5, 10, 14, 25, 36, 99, 400, 19500]\n"
          ]
        }
      ],
      "source": [
        "# Ordeenação\n",
        "lista = [14, 25, 5, 19500, 36, 400, 99, 2, 10, 0, -1, -30]\n",
        "for v in range(len(lista)-1):\n",
        "    for i in range(len(lista)-1):\n",
        "        primeiro = lista[i]\n",
        "        segundo = lista[i+1]\n",
        "        maior = ((primeiro + segundo) + abs(primeiro - segundo))/2\n",
        "        if primeiro == maior:\n",
        "            lista[i], lista[i+1] = lista[i+1], lista[i]\n",
        "print(lista)"
      ]
    },
    {
      "cell_type": "code",
      "source": [
        "# enumerate\n",
        "Frase = \"O curso de python é muito legal!\"\n",
        "lista = Frase.split()\n",
        "print(lista)\n",
        "\n",
        "for i, j in enumerate(lista):\n",
        "    print(i, j)\n"
      ],
      "metadata": {
        "colab": {
          "base_uri": "https://localhost:8080/"
        },
        "id": "6JIPptWMFceg",
        "outputId": "7983ff11-0291-473a-b2be-2b58f2eda84a"
      },
      "execution_count": null,
      "outputs": [
        {
          "output_type": "stream",
          "name": "stdout",
          "text": [
            "['O', 'curso', 'de', 'python', 'é', 'muito', 'legal!']\n",
            "0 O\n",
            "1 curso\n",
            "2 de\n",
            "3 python\n",
            "4 é\n",
            "5 muito\n",
            "6 legal!\n"
          ]
        }
      ]
    },
    {
      "cell_type": "code",
      "source": [
        "palavra = \"                Python\"\n",
        "palavra = palavra.strip()\n",
        "\n",
        "# Strip remove os espaços em branco antes e depois\n",
        "print(f'STRIP: {palavra}')\n",
        "# Upper deixa todas as letras em maiusculas\n",
        "print(f'UPPER: {palavra.upper()}')\n",
        "# Com o Swapcase letras maiúsculas ficam minúsculas e vice-versa\n",
        "print(f'SWAPCASE: {palavra.swapcase()}')\n",
        "\n",
        "#startswith\n",
        "print(f'')"
      ],
      "metadata": {
        "id": "ePBuZ_-wGVI5"
      },
      "execution_count": null,
      "outputs": []
    },
    {
      "cell_type": "code",
      "source": [
        "lista = [\n",
        "    'False', 'class', 'finally', 'is', 'return',\n",
        "    'None', 'continue', 'for', 'lambda', 'try',\n",
        "    'True', 'def', 'from', 'nonlocal', 'while',\n",
        "    'and', 'del', 'global', 'not', 'with','as',\n",
        "    'elif', 'if', 'or', 'yield','Assert', 'else',\n",
        "    'import', 'pass','break', 'except', 'in', 'raise'\n",
        "    ]\n",
        "encontrado = []\n",
        "letra = input(\"digite uma letra: \")\n",
        "for i in range(len(lista)):\n",
        "    if lista[i].startswith(letra.swapcase()) or lista[i].startswith(letra):\n",
        "        print(lista[i])\n",
        "        encontrado.append(i)\n",
        "if len(encontrado) == 0:\n",
        "    print(f\"Nenhuma palavra encontrada que começa com: {letra} ou {letra.swapcase()}\")"
      ],
      "metadata": {
        "colab": {
          "base_uri": "https://localhost:8080/"
        },
        "id": "QI0-0HOvMLub",
        "outputId": "bb643a2c-89ab-4256-b23a-fc333888104a"
      },
      "execution_count": null,
      "outputs": [
        {
          "output_type": "stream",
          "name": "stdout",
          "text": [
            "digite uma letra: h\n",
            "Nenhuma palavra encontrada que começa com: h ou H\n"
          ]
        }
      ]
    },
    {
      "cell_type": "code",
      "source": [
        "lista = []\n",
        "with open(\"palavras.txt\") as arquivo:\n",
        "    for linha in arquivo:\n",
        "        linha = linha.strip()\n",
        "        lista.append(linha)\n",
        "encontrado = []\n",
        "letra = input(\"digite uma letra: \")\n",
        "for i in range(len(lista)):\n",
        "    if lista[i].startswith(letra.swapcase()) or lista[i].startswith(letra):\n",
        "        print(lista[i])\n",
        "        encontrado.append(i)\n",
        "if len(encontrado) == 0:\n",
        "    print(f\"Nenhuma palavra encontrada que começa com: {letra} ou {letra.swapcase()}\")"
      ],
      "metadata": {
        "colab": {
          "base_uri": "https://localhost:8080/"
        },
        "id": "mzN3cuoOdG2g",
        "outputId": "c9d93330-d797-4caa-9232-2640c97b70a1"
      },
      "execution_count": null,
      "outputs": [
        {
          "output_type": "stream",
          "name": "stdout",
          "text": [
            "digite uma letra: f\n",
            "False\n",
            "finally\n",
            "for\n",
            "from\n"
          ]
        }
      ]
    }
  ]
}