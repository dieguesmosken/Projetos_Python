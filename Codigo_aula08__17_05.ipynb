{
  "nbformat": 4,
  "nbformat_minor": 0,
  "metadata": {
    "colab": {
      "provenance": [],
      "authorship_tag": "ABX9TyN969v2Xgqk9Uws3Yu5xaKo",
      "include_colab_link": true
    },
    "kernelspec": {
      "name": "python3",
      "display_name": "Python 3"
    },
    "language_info": {
      "name": "python"
    }
  },
  "cells": [
    {
      "cell_type": "markdown",
      "metadata": {
        "id": "view-in-github",
        "colab_type": "text"
      },
      "source": [
        "<a href=\"https://colab.research.google.com/github/dieguesmosken/Projetos_Python/blob/main/Codigo_aula08__17_05.ipynb\" target=\"_parent\"><img src=\"https://colab.research.google.com/assets/colab-badge.svg\" alt=\"Open In Colab\"/></a>"
      ]
    },
    {
      "cell_type": "markdown",
      "source": [
        "### Dia 17/05\n",
        "-\n",
        "---"
      ],
      "metadata": {
        "id": "OQAoq9fezJOA"
      }
    },
    {
      "cell_type": "code",
      "source": [
        "import math\n",
        "lista = [14, 25, 5, 19500, 36, 400, 99, 2, 10, 0, -1, -30]\n",
        "\n",
        "for i in range(len(lista)-1):\n",
        "    for j in range(len(lista)-i):\n",
        "        maior = int(((lista[i]+lista[i+1])+(math.sqrt(math.pow((lista[i]-lista[i+1]), 2))))/2)\n",
        "        lista.append(maior)\n",
        "        if lista[i] != maior:\n",
        "            lista.remove(lista[i+1])\n",
        "        else:\n",
        "            lista.remove(lista[i])\n",
        "\n",
        "print(lista)"
      ],
      "metadata": {
        "colab": {
          "base_uri": "https://localhost:8080/"
        },
        "id": "BEO0gKo5x9nj",
        "outputId": "1287875f-b0d1-4274-b864-96431a19c682"
      },
      "execution_count": 145,
      "outputs": [
        {
          "output_type": "stream",
          "name": "stdout",
          "text": [
            "[-30, -1, 0, 2, 5, 10, 14, 25, 36, 99, 400, 19500]\n"
          ]
        }
      ]
    }
  ]
}