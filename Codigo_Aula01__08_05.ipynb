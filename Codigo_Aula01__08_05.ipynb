{
  "nbformat": 4,
  "nbformat_minor": 0,
  "metadata": {
    "colab": {
      "provenance": [],
      "authorship_tag": "ABX9TyNiX4K4bErONh8BbaVHhpeG",
      "include_colab_link": true
    },
    "kernelspec": {
      "name": "python3",
      "display_name": "Python 3"
    },
    "language_info": {
      "name": "python"
    }
  },
  "cells": [
    {
      "cell_type": "markdown",
      "metadata": {
        "id": "view-in-github",
        "colab_type": "text"
      },
      "source": [
        "<a href=\"https://colab.research.google.com/github/dieguesmosken/Projetos_Python/blob/main/Codigo_Aula01__08_05.ipynb\" target=\"_parent\"><img src=\"https://colab.research.google.com/assets/colab-badge.svg\" alt=\"Open In Colab\"/></a>"
      ]
    },
    {
      "cell_type": "code",
      "execution_count": 24,
      "metadata": {
        "colab": {
          "base_uri": "https://localhost:8080/"
        },
        "id": "nkK--y1N3Ei8",
        "outputId": "ed13e1c1-a241-4f94-ba3f-1e3a0682c65a"
      },
      "outputs": [
        {
          "output_type": "stream",
          "name": "stdout",
          "text": [
            "Olá Mundo\n",
            "<class 'str'>\n"
          ]
        }
      ],
      "source": [
        "texto = \"Olá Mundo\"\n",
        "\n",
        "print(texto)\n",
        "print(type(texto))"
      ]
    },
    {
      "cell_type": "code",
      "source": [
        "var1 = input(\"Digite uma Informação:\")\n",
        "print(var1)\n",
        "print(type(var1))"
      ],
      "metadata": {
        "colab": {
          "base_uri": "https://localhost:8080/"
        },
        "id": "zO2OChG04ZC4",
        "outputId": "8177b887-b057-4719-807d-44f347e95950"
      },
      "execution_count": 25,
      "outputs": [
        {
          "output_type": "stream",
          "name": "stdout",
          "text": [
            "Digite uma Informação:2\n",
            "2\n",
            "<class 'str'>\n"
          ]
        }
      ]
    },
    {
      "cell_type": "code",
      "source": [
        "var2 = int(input(\"Digite uma Informação:\"))\n",
        "print(var2)\n",
        "print(type(var2))"
      ],
      "metadata": {
        "colab": {
          "base_uri": "https://localhost:8080/"
        },
        "id": "egKvHKLC7rK1",
        "outputId": "9d5dfb0b-a9b5-4ed1-d4f9-b1e07eebde7d"
      },
      "execution_count": 27,
      "outputs": [
        {
          "output_type": "stream",
          "name": "stdout",
          "text": [
            "Digite uma Informação:2\n",
            "2\n",
            "<class 'int'>\n"
          ]
        }
      ]
    },
    {
      "cell_type": "code",
      "source": [
        "var3 = float(input(\"Digite uma Informação:\"))\n",
        "print(var3)\n",
        "print(type(var3))\n",
        "res = texto,var1\n",
        "res\n"
      ],
      "metadata": {
        "colab": {
          "base_uri": "https://localhost:8080/"
        },
        "outputId": "135e1201-f156-4de8-9c2c-c2b15b46f8b4",
        "id": "nq08P2MK9wDS"
      },
      "execution_count": 29,
      "outputs": [
        {
          "output_type": "stream",
          "name": "stdout",
          "text": [
            "Digite uma Informação:5\n",
            "5.0\n",
            "<class 'float'>\n"
          ]
        },
        {
          "output_type": "execute_result",
          "data": {
            "text/plain": [
              "('Olá Mundo', '2')"
            ]
          },
          "metadata": {},
          "execution_count": 29
        }
      ]
    },
    {
      "cell_type": "code",
      "source": [
        "print(f'resultado: {var1}{texto}')"
      ],
      "metadata": {
        "colab": {
          "base_uri": "https://localhost:8080/"
        },
        "id": "sOxu1zrA_Mp1",
        "outputId": "200bab19-d182-4be0-fe12-fa001ed0608b"
      },
      "execution_count": 31,
      "outputs": [
        {
          "output_type": "stream",
          "name": "stdout",
          "text": [
            "resultado: 2Olá Mundo\n"
          ]
        }
      ]
    }
  ]
}