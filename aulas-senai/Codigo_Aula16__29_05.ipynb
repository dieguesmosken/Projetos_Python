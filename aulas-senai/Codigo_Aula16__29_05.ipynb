{
  "nbformat": 4,
  "nbformat_minor": 0,
  "metadata": {
    "colab": {
      "provenance": [],
      "authorship_tag": "ABX9TyPumQxSkhxmfY4rhqaoMUPo",
      "include_colab_link": true
    },
    "kernelspec": {
      "name": "python3",
      "display_name": "Python 3"
    },
    "language_info": {
      "name": "python"
    }
  },
  "cells": [
    {
      "cell_type": "markdown",
      "metadata": {
        "id": "view-in-github",
        "colab_type": "text"
      },
      "source": [
        "<a href=\"https://colab.research.google.com/github/dieguesmosken/Projetos_Python/blob/main/Codigo_Aula16__29_05.ipynb\" target=\"_parent\"><img src=\"https://colab.research.google.com/assets/colab-badge.svg\" alt=\"Open In Colab\"/></a>"
      ]
    },
    {
      "cell_type": "code",
      "execution_count": null,
      "metadata": {
        "colab": {
          "base_uri": "https://localhost:8080/"
        },
        "id": "Y63vk7V8yJuH",
        "outputId": "8f119765-5bec-491a-a8e0-454989139825"
      },
      "outputs": [
        {
          "output_type": "stream",
          "name": "stdout",
          "text": [
            "hoje é 29 de maio de 2023\n"
          ]
        }
      ],
      "source": [
        "dia = 29\n",
        "mês = \"maio\"\n",
        "ano = 2023\n",
        "#data = f\"hoje é {dia} de {mês} de {ano}\n",
        "data = \"hoje é {0} de {1} de {2}\"\n",
        "print(data.format(dia, mês, ano))\n",
        "\n",
        "\n"
      ]
    },
    {
      "cell_type": "code",
      "source": [
        "import datetime\n",
        "hoje = datetime.datetime.now()\n",
        "data2 = \"hoje é {} de {} de {}\"\n",
        "print(data2.format(hoje.day, hoje.month, hoje.year))\n",
        "print(hoje.strftime(\"%d/%m/%y\"))\n",
        "print(hoje.strftime(\"%d/%m/%Y\"))\n",
        "print(hoje.strftime(\"%A\"))"
      ],
      "metadata": {
        "colab": {
          "base_uri": "https://localhost:8080/"
        },
        "id": "OOhTihsVzH-F",
        "outputId": "40a5fe5c-27b7-448f-86c5-c93a20ed84fc"
      },
      "execution_count": null,
      "outputs": [
        {
          "output_type": "stream",
          "name": "stdout",
          "text": [
            "hoje é 29 de 5 de 2023\n",
            "29/05/23\n",
            "29/05/2023\n",
            "Monday\n"
          ]
        }
      ]
    },
    {
      "cell_type": "code",
      "source": [
        "#jogo de quente e frio em python \n",
        "\n",
        "from random import randint\n",
        "#variaveis de ambiente\n",
        "valor_max = 15\n",
        "valor_min = 1\n",
        "print(\"-=\"*15)\n",
        "\n",
        "print(\"\"\"bem vindo ao Jogo Quente-Frio!\n",
        "Tente a sua sorte!\"\"\")\n",
        "valor_sorteado = randint(1, valor_max)\n",
        "\n",
        "print(\"-=\"*15)\n",
        "\n",
        "palpite_jogador = None\n",
        "palpite_computador = None\n",
        "estado = None\n",
        "\n",
        "nome = input(\"Insira o seu nome:\")\n",
        "\n",
        "print(\"-=\"*15)\n",
        "\n",
        "while True:\n",
        "    palpite_jogador = int(input(f'Palpite do {nome}: '))\n",
        "    if palpite_jogador >= valor_min and palpite_jogador <= valor_max:\n",
        "        if estado != None:\n",
        "            print(f'estado: {estado}')\n",
        "\n",
        "        if palpite_computador == None:\n",
        "            palpite_computador = randint(valor_min, valor_max)\n",
        "        elif estado == \"Frio\":\n",
        "            palpite_computador = randint(valor_min, valor_max)\n",
        "        else:\n",
        "            palpite_computador = randint(palpite_computador-5, palpite_computador+5)\n",
        "            if palpite_computador > valor_max or palpite_computador < valor_min:\n",
        "                palpite_computador = randint(palpite_computador-randint(0,5), palpite_computador+randint(0,5))\n",
        "        print(f'Palpite do computador: {palpite_computador}')\n",
        "        print(\"-=\"*15)\n",
        "\n",
        "        if palpite_jogador == valor_sorteado:\n",
        "            print(f\"Parabens {nome}, você venceu!\")\n",
        "            print(\"-=\"*15)\n",
        "            break\n",
        "\n",
        "        elif palpite_computador == valor_sorteado:\n",
        "            print(\"O computador venceu!\")\n",
        "            print(\"-=\"*15)\n",
        "            break\n",
        "\n",
        "        elif abs(palpite_jogador - valor_sorteado) <= 5:\n",
        "            print(f\"O palpite do {nome} está quente\")\n",
        "            print(\"-=\"*15)\n",
        "            estado = \"Quente\"\n",
        "\n",
        "        elif abs(palpite_computador - valor_sorteado) <= 5:\n",
        "            print(f\"O palpite do computador está quente\")\n",
        "            print(\"-=\"*15)\n",
        "            estado = \"Quente\"\n",
        "        else:\n",
        "            print(\"O palpite está frio\")\n",
        "            print(\"-=\"*15)\n",
        "            estado = \"Frio\"\n",
        "    else:\n",
        "        print(f\"o valor {palpite_jogador} é invalido\")\n",
        "        print(f\"Insira um valor entre {valor_min} e {valor_max}\")\n",
        "print(\"Fim do jogo\")\n"
      ],
      "metadata": {
        "id": "vTDpDE8FBnRd",
        "colab": {
          "base_uri": "https://localhost:8080/"
        },
        "outputId": "370d58be-0a9f-4970-9518-d5b7de417963"
      },
      "execution_count": null,
      "outputs": [
        {
          "output_type": "stream",
          "name": "stdout",
          "text": [
            "-=-=-=-=-=-=-=-=-=-=-=-=-=-=-=\n",
            "bem vindo ao Jogo Quente-Frio!\n",
            "Tente a sua sorte!\n",
            "-=-=-=-=-=-=-=-=-=-=-=-=-=-=-=\n",
            "Insira o seu nome:matheus\n",
            "-=-=-=-=-=-=-=-=-=-=-=-=-=-=-=\n",
            "Palpite do matheus: 15\n",
            "Palpite do computador: 7\n",
            "-=-=-=-=-=-=-=-=-=-=-=-=-=-=-=\n",
            "O palpite está frio\n",
            "-=-=-=-=-=-=-=-=-=-=-=-=-=-=-=\n",
            "Palpite do matheus: 2\n",
            "estado: Frio\n",
            "Palpite do computador: 4\n",
            "-=-=-=-=-=-=-=-=-=-=-=-=-=-=-=\n",
            "O palpite do matheus está quente\n",
            "-=-=-=-=-=-=-=-=-=-=-=-=-=-=-=\n",
            "Palpite do matheus: 1\n",
            "estado: Quente\n",
            "Palpite do computador: 1\n",
            "-=-=-=-=-=-=-=-=-=-=-=-=-=-=-=\n",
            "Parabens matheus, você venceu!\n",
            "-=-=-=-=-=-=-=-=-=-=-=-=-=-=-=\n",
            "Fim do jogo\n"
          ]
        }
      ]
    }
  ]
}