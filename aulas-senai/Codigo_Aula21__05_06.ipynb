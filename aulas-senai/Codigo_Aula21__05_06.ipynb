{
  "nbformat": 4,
  "nbformat_minor": 0,
  "metadata": {
    "colab": {
      "provenance": [],
      "authorship_tag": "ABX9TyNdP4aaCCnD5iJUn3eUHlla",
      "include_colab_link": true
    },
    "kernelspec": {
      "name": "python3",
      "display_name": "Python 3"
    },
    "language_info": {
      "name": "python"
    }
  },
  "cells": [
    {
      "cell_type": "markdown",
      "metadata": {
        "id": "view-in-github",
        "colab_type": "text"
      },
      "source": [
        "<a href=\"https://colab.research.google.com/github/dieguesmosken/Projetos_Python/blob/main/Codigo_Aula21__05_06.ipynb\" target=\"_parent\"><img src=\"https://colab.research.google.com/assets/colab-badge.svg\" alt=\"Open In Colab\"/></a>"
      ]
    },
    {
      "cell_type": "markdown",
      "source": [
        "### dia 05/06"
      ],
      "metadata": {
        "id": "Qad4stXStZBo"
      }
    },
    {
      "cell_type": "code",
      "execution_count": null,
      "metadata": {
        "colab": {
          "base_uri": "https://localhost:8080/",
          "height": 514
        },
        "id": "LvrW-FEPtRyY",
        "outputId": "298bd823-21ce-46ce-ab9a-ec05a28abefd"
      },
      "outputs": [
        {
          "output_type": "stream",
          "name": "stdout",
          "text": [
            "Foram geradas 28 peças\n",
            "Foram escolhidas 7 peças para jogador 1: \n",
            "\n",
            "\n",
            "Peça 1: [2|6] - Peça 2: [3|3] - Peça 3: [5|6] - Peça 4: [1|3] - Peça 5: [1|2] - Peça 6: [6|6] - Peça 7: [2|5] - \n",
            "\n",
            "Foram escolhidas 7 peças para jogador 2: \n",
            "\n",
            "\n",
            "Peça 1: [1|6] - Peça 2: [2|3] - Peça 3: [0|3] - Peça 4: [1|4] - Peça 5: [4|4] - Peça 6: [2|2] - Peça 7: [2|4] - \n",
            "\n"
          ]
        },
        {
          "output_type": "error",
          "ename": "IndexError",
          "evalue": "ignored",
          "traceback": [
            "\u001b[0;31m---------------------------------------------------------------------------\u001b[0m",
            "\u001b[0;31mIndexError\u001b[0m                                Traceback (most recent call last)",
            "\u001b[0;32m<ipython-input-1-e9967b5fb79b>\u001b[0m in \u001b[0;36m<cell line: 49>\u001b[0;34m()\u001b[0m\n\u001b[1;32m     47\u001b[0m             \u001b[0;32mbreak\u001b[0m\u001b[0;34m\u001b[0m\u001b[0;34m\u001b[0m\u001b[0m\n\u001b[1;32m     48\u001b[0m \u001b[0;34m\u001b[0m\u001b[0m\n\u001b[0;32m---> 49\u001b[0;31m \u001b[0mjogar_peca\u001b[0m\u001b[0;34m(\u001b[0m\u001b[0mjg1\u001b[0m\u001b[0;34m)\u001b[0m\u001b[0;34m\u001b[0m\u001b[0;34m\u001b[0m\u001b[0m\n\u001b[0m",
            "\u001b[0;32m<ipython-input-1-e9967b5fb79b>\u001b[0m in \u001b[0;36mjogar_peca\u001b[0;34m(jogador)\u001b[0m\n\u001b[1;32m     39\u001b[0m             \u001b[0;32mfor\u001b[0m \u001b[0mi\u001b[0m \u001b[0;32min\u001b[0m \u001b[0mrange\u001b[0m\u001b[0;34m(\u001b[0m\u001b[0mlen\u001b[0m\u001b[0;34m(\u001b[0m\u001b[0mjogador\u001b[0m\u001b[0;34m)\u001b[0m\u001b[0;34m)\u001b[0m\u001b[0;34m:\u001b[0m\u001b[0;34m\u001b[0m\u001b[0;34m\u001b[0m\u001b[0m\n\u001b[1;32m     40\u001b[0m                 \u001b[0;31m#print(f\"[{jogador[i]['lado1']}|{jogador[i]['lado2']}]\")\u001b[0m\u001b[0;34m\u001b[0m\u001b[0;34m\u001b[0m\u001b[0m\n\u001b[0;32m---> 41\u001b[0;31m                 \u001b[0mpecasM\u001b[0m\u001b[0;34m.\u001b[0m\u001b[0mappend\u001b[0m\u001b[0;34m(\u001b[0m\u001b[0mjogador\u001b[0m\u001b[0;34m[\u001b[0m\u001b[0mi\u001b[0m\u001b[0;34m]\u001b[0m\u001b[0;34m)\u001b[0m\u001b[0;34m\u001b[0m\u001b[0;34m\u001b[0m\u001b[0m\n\u001b[0m\u001b[1;32m     42\u001b[0m                 \u001b[0mjogador\u001b[0m\u001b[0;34m.\u001b[0m\u001b[0mremove\u001b[0m\u001b[0;34m(\u001b[0m\u001b[0mjogador\u001b[0m\u001b[0;34m[\u001b[0m\u001b[0mi\u001b[0m\u001b[0;34m]\u001b[0m\u001b[0;34m)\u001b[0m\u001b[0;34m\u001b[0m\u001b[0;34m\u001b[0m\u001b[0m\n\u001b[1;32m     43\u001b[0m             \u001b[0mprint\u001b[0m\u001b[0;34m(\u001b[0m\u001b[0;34mf\"Foram jogadas peças na mesa \"\u001b[0m\u001b[0;34m)\u001b[0m\u001b[0;34m\u001b[0m\u001b[0;34m\u001b[0m\u001b[0m\n",
            "\u001b[0;31mIndexError\u001b[0m: list index out of range"
          ]
        }
      ],
      "source": [
        "#desafio: criar jogo de dominó \n",
        "from random import randint\n",
        "#peças \n",
        "pecas = []\n",
        "pecasM = []\n",
        "jg1 = []\n",
        "jg2 = []\n",
        "\n",
        "#criar peças do jogo\n",
        "for i in range(7):\n",
        "    for j in range(i, 7):\n",
        "        pecas.append({'lado1': i, 'lado2': j})\n",
        "print(f\"Foram geradas {len(pecas)} peças\")\n",
        "\n",
        "def mostra_peca(jogador):\n",
        "    for i in range(len(jogador)):\n",
        "        print(f\"Peça {i+1}: [{jogador[i]['lado1']}|{jogador[i]['lado2']}]\", end = \" - \")  \n",
        "    print(\"\\n\")\n",
        "\n",
        "def gera_peca(jogador, num):\n",
        "    for i in range(7):\n",
        "        alet = randint(0, len(pecas)-1)\n",
        "        jogador.append(pecas[alet])\n",
        "        pecas.remove(pecas[alet])\n",
        "    print(f\"Foram escolhidas {len(jogador)} peças para jogador {num}: \")\n",
        "    print(\"\\n\")\n",
        "    mostra_peca(jogador)\n",
        "\n",
        "#execução do codigo \n",
        "\n",
        "gera_peca(jg1,1)\n",
        "gera_peca(jg2,2)\n",
        "\n",
        "def jogar_peca(jogador):\n",
        "    while True:\n",
        "        if len(jogador) == 0:\n",
        "            break\n",
        "        else:\n",
        "            for i in range(len(jogador)):\n",
        "                #print(f\"[{jogador[i]['lado1']}|{jogador[i]['lado2']}]\")\n",
        "                pecasM.append(jogador[i])\n",
        "                jogador.remove(jogador[i])\n",
        "            print(f\"Foram jogadas peças na mesa \")\n",
        "            mostra_peca(pecasM)\n",
        "            \n",
        "                \n",
        "            break\n",
        "\n",
        "jogar_peca(jg1)\n"
      ]
    },
    {
      "cell_type": "code",
      "source": [
        "#como girar peca\n",
        "\n",
        "peça = [5,3]\n",
        "print(peça)\n",
        "#swap\n",
        "peça[0],peça[1] = peça[1],peça[0]\n",
        "print(peça)"
      ],
      "metadata": {
        "colab": {
          "base_uri": "https://localhost:8080/"
        },
        "id": "XwhbvTaGH4mV",
        "outputId": "59531e17-5a57-48df-b67c-b30773f7afb6"
      },
      "execution_count": null,
      "outputs": [
        {
          "output_type": "stream",
          "name": "stdout",
          "text": [
            "[5, 3]\n",
            "[3, 5]\n"
          ]
        }
      ]
    },
    {
      "cell_type": "code",
      "source": [
        "import random\n",
        "from random import randint\n",
        "\n",
        "# \n",
        "# Função para Criar peças do jogo e \n",
        "# embaralhar as peças do dominó\n",
        "#\n",
        "def embaralhar_pecas():\n",
        "    pecas = []\n",
        "    for i in range(7):\n",
        "        for j in range(i, 7):\n",
        "            pecas.append((i, j))\n",
        "    random.shuffle(pecas)\n",
        "    return pecas\n",
        "\n",
        "# Função para distribuir as peças entre os jogadores\n",
        "def distribuir_pecas(pecas):\n",
        "    jg1 = []\n",
        "    jg2 = []\n",
        "    for i in range(7):\n",
        "        jg1.append(pecas.pop())\n",
        "        jg2.append(pecas.pop())\n",
        "    return jg1, jg2, pecas\n",
        "\n",
        "# Função para imprimir a mão de um jogador\n",
        "def imprimir_mao(jogador):\n",
        "    print(\"Suas Peças:\")\n",
        "    for i, peca in enumerate(jogador):\n",
        "        print(f\"{i+1}: {peca}\")\n",
        "\n",
        "# Execução do código\n",
        "\n",
        "def jogar_peca(jogador):\n",
        "    while True:\n",
        "        if len(jogador) == 0:\n",
        "            break\n",
        "        else:\n",
        "            peca_valida = False\n",
        "            for i in range(len(jogador)):\n",
        "                if jogador[i]['lado1'] == pecasM[-1]['lado2'] or jogador[i]['lado2'] == pecasM[-1]['lado2']:\n",
        "                    pecasM.append(jogador[i])\n",
        "                    jogador.remove(jogador[i])\n",
        "                    peca_valida = True\n",
        "                    break\n",
        "            if peca_valida:\n",
        "                print(\"Uma peça foi jogada na mesa.\")\n",
        "                mostra_peca(pecasM)\n",
        "            else:\n",
        "                print(\"Nenhuma peça pode ser jogada.\")\n",
        "                break\n",
        "\n",
        "#jogar_peca(jg1)\n",
        "\n",
        "def iniciar_jogo():\n",
        "    pecas = embaralhar_pecas()\n",
        "    jg1, jg2, pecas_mesa = distribuir_pecas(pecas)\n",
        "    print(f\"peças do jogador 1: {jg1}\")\n",
        "    print(f\"peças do jogador 1: {jg2}\")\n",
        "    print(f\"peças restantes: {pecas_mesa}\")\n",
        "    \n",
        "\n",
        "    jogadores = [jg1, jg2]\n",
        "    turno = random.randint(0, 1)\n",
        "    pulou_vez = False\n",
        "\n",
        "    while True:\n",
        "        jogador_atual = jogadores[turno]\n",
        "        print(\"=== Jogador\", turno + 1, \"===\\n\")\n",
        "        imprimir_mao(jogador_atual)\n",
        "        break\n",
        "        opcao = input(\"Digite o número da peça que deseja jogar (ou '0' para pular): \")\n",
        "        if opcao == '0':\n",
        "            pulou_vez = True\n",
        "            print(\"Jogador\", turno + 1, \"pulou a vez.\\n\")\n",
        "        else:\n",
        "            opcao = int(opcao)\n",
        "            if opcao < 1 or opcao > len(jogador_atual):\n",
        "                print(\"Opção inválida.\\n\")\n",
        "            else:\n",
        "                peca_escolhida = jogador_atual[opcao - 1]\n",
        "                #realizar_jogada(jogador_atual, mesa, peca_escolhida)\n",
        "                pulou_vez = False\n",
        "                if len(jogador_atual) == 0:\n",
        "                    #vitoria se acabar as peças\n",
        "                    print(\"Jogador\", turno + 1, \"venceu!\")\n",
        "                    break\n",
        "                turno = (turno + 1) % 2\n",
        "\n",
        "            \n",
        "iniciar_jogo()\n"
      ],
      "metadata": {
        "colab": {
          "base_uri": "https://localhost:8080/"
        },
        "id": "SJKtBBq9LphO",
        "outputId": "879bac9b-482a-4833-f063-3823df97d05d"
      },
      "execution_count": null,
      "outputs": [
        {
          "output_type": "stream",
          "name": "stdout",
          "text": [
            "peças do jogador 1: [(6, 6), (1, 6), (2, 5), (5, 5), (4, 6), (2, 6), (1, 1)]\n",
            "peças do jogador 1: [(0, 6), (2, 3), (4, 4), (0, 1), (0, 0), (1, 4), (1, 5)]\n",
            "peças restantes: [(0, 3), (2, 4), (3, 4), (4, 5), (3, 6), (0, 2), (5, 6), (0, 5), (2, 2), (1, 2), (3, 3), (0, 4), (3, 5), (1, 3)]\n",
            "=== Jogador 2 ===\n",
            "\n",
            "Suas Peças:\n",
            "1: (0, 6)\n",
            "2: (2, 3)\n",
            "3: (4, 4)\n",
            "4: (0, 1)\n",
            "5: (0, 0)\n",
            "6: (1, 4)\n",
            "7: (1, 5)\n"
          ]
        }
      ]
    },
    {
      "cell_type": "code",
      "source": [
        "'''\n",
        "def mostra_peca(jogador):\n",
        "    for i, peca in range(len(jogador)):\n",
        "        print(f\"Peça {i+1}: {peca}\")\n",
        "\n",
        "\n",
        "def gera_peca(jogador, num):\n",
        "    for i in range(7):\n",
        "        alet = randint(0, len(pecas)-1)\n",
        "        jogador.append(pecas[alet])\n",
        "        pecas.remove(pecas[alet])\n",
        "    print(f\"Foram escolhidas {len(jogador)} peças para o jogador {num}: \")\n",
        "    print(\"\\n\")\n",
        "    mostra_peca(jogador)\n",
        "'''\n",
        "\n",
        "#como exibir a trilha de forma limpa"
      ],
      "metadata": {
        "id": "n4NBjEhrHbte"
      },
      "execution_count": null,
      "outputs": []
    },
    {
      "cell_type": "code",
      "source": [
        "trilha = [[5,6],[6,6],[6,1],[1,3]]\n",
        "\n",
        "print(trilha)\n",
        "\n",
        "for i in range(len(trilha)):\n",
        "    print(trilha[i], end=\"\")\n",
        "print(\"🀾\")\n",
        "\n",
        "# dica 7 como verificar se o jogador precisa compar peças\n",
        "\n",
        "trilha = [[5,6],[6,6],[6,1],[1,3]]\n",
        "JG1 = [[0,4],[4,4],[0,0]]"
      ],
      "metadata": {
        "colab": {
          "base_uri": "https://localhost:8080/",
          "height": 253
        },
        "id": "3xlni7ijJ1nl",
        "outputId": "fdb36734-0996-4af9-fd8a-87d4280b19e6"
      },
      "execution_count": null,
      "outputs": [
        {
          "output_type": "stream",
          "name": "stdout",
          "text": [
            "[[5, 6], [6, 6], [6, 1]]\n",
            "[5, 6]"
          ]
        },
        {
          "output_type": "error",
          "ename": "AttributeError",
          "evalue": "ignored",
          "traceback": [
            "\u001b[0;31m---------------------------------------------------------------------------\u001b[0m",
            "\u001b[0;31mAttributeError\u001b[0m                            Traceback (most recent call last)",
            "\u001b[0;32m<ipython-input-27-cea0a6bac811>\u001b[0m in \u001b[0;36m<cell line: 5>\u001b[0;34m()\u001b[0m\n\u001b[1;32m      4\u001b[0m \u001b[0;34m\u001b[0m\u001b[0m\n\u001b[1;32m      5\u001b[0m \u001b[0;32mfor\u001b[0m \u001b[0mi\u001b[0m \u001b[0;32min\u001b[0m \u001b[0mrange\u001b[0m\u001b[0;34m(\u001b[0m\u001b[0mlen\u001b[0m\u001b[0;34m(\u001b[0m\u001b[0mtrilha\u001b[0m\u001b[0;34m)\u001b[0m\u001b[0;34m)\u001b[0m\u001b[0;34m:\u001b[0m\u001b[0;34m\u001b[0m\u001b[0;34m\u001b[0m\u001b[0m\n\u001b[0;32m----> 6\u001b[0;31m     \u001b[0mprint\u001b[0m\u001b[0;34m(\u001b[0m\u001b[0mtrilha\u001b[0m\u001b[0;34m[\u001b[0m\u001b[0mi\u001b[0m\u001b[0;34m]\u001b[0m\u001b[0;34m,\u001b[0m \u001b[0mend\u001b[0m\u001b[0;34m=\u001b[0m\u001b[0;34m\"\"\u001b[0m\u001b[0;34m)\u001b[0m\u001b[0;34m.\u001b[0m\u001b[0mreplace\u001b[0m\u001b[0;34m(\u001b[0m\u001b[0;34m\", \"\u001b[0m\u001b[0;34m,\u001b[0m\u001b[0;34m\"|\"\u001b[0m\u001b[0;34m)\u001b[0m\u001b[0;34m\u001b[0m\u001b[0;34m\u001b[0m\u001b[0m\n\u001b[0m\u001b[1;32m      7\u001b[0m \u001b[0mprint\u001b[0m\u001b[0;34m(\u001b[0m\u001b[0;34m\"🀾\"\u001b[0m\u001b[0;34m)\u001b[0m\u001b[0;34m\u001b[0m\u001b[0;34m\u001b[0m\u001b[0m\n",
            "\u001b[0;31mAttributeError\u001b[0m: 'NoneType' object has no attribute 'replace'"
          ]
        }
      ]
    },
    {
      "cell_type": "code",
      "source": [
        "# Importe a biblioteca random\n",
        "import random\n",
        "\n",
        "# Defina uma lista com os caracteres Unicode para cada combinação de números\n",
        "tiles_unicode = [\n",
        "    '\\U0001F030',  # 0: 🀰\n",
        "    '\\U0001F031',  # 1: 🀱\n",
        "    '\\U0001F032',  # 2: 🀲\n",
        "    '\\U0001F033',  # 3: 🀳\n",
        "    '\\U0001F034',  # 4: 🀴\n",
        "    '\\U0001F035',  # 5: 🀵\n",
        "    '\\U0001F036',  # 6: 🀶\n",
        "]\n",
        "\n",
        "# Função para criar peças do jogo e embaralhar as peças do dominó\n",
        "def embaralhar_pecas():\n",
        "    pecas = []\n",
        "    for i in range(7):\n",
        "        for j in range(i, 7):\n",
        "            pecas.append((i, j))\n",
        "    random.shuffle(pecas)\n",
        "    \n",
        "    return pecas\n",
        "\n",
        "\n",
        "# Resto do código...\n",
        "embaralhar_pecas()\n"
      ],
      "metadata": {
        "colab": {
          "base_uri": "https://localhost:8080/"
        },
        "id": "cHHDZcfeQqHv",
        "outputId": "6e0d4593-df4f-4ea1-d015-e6b1e4d859fd"
      },
      "execution_count": null,
      "outputs": [
        {
          "output_type": "execute_result",
          "data": {
            "text/plain": [
              "[(1, 5),\n",
              " (0, 5),\n",
              " (0, 6),\n",
              " (1, 3),\n",
              " (0, 3),\n",
              " (3, 4),\n",
              " (3, 3),\n",
              " (5, 5),\n",
              " (1, 2),\n",
              " (1, 4),\n",
              " (2, 3),\n",
              " (0, 2),\n",
              " (1, 6),\n",
              " (2, 4),\n",
              " (2, 5),\n",
              " (3, 5),\n",
              " (0, 4),\n",
              " (2, 2),\n",
              " (5, 6),\n",
              " (1, 1),\n",
              " (0, 1),\n",
              " (3, 6),\n",
              " (4, 5),\n",
              " (2, 6),\n",
              " (0, 0),\n",
              " (6, 6),\n",
              " (4, 4),\n",
              " (4, 6)]"
            ]
          },
          "metadata": {},
          "execution_count": 32
        }
      ]
    }
  ]
}