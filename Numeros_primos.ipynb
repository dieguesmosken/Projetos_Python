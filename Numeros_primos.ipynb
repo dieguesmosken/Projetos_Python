{
  "cells": [
    {
      "cell_type": "markdown",
      "metadata": {
        "colab_type": "text",
        "id": "view-in-github"
      },
      "source": [
        "<a href=\"https://colab.research.google.com/github/dieguesmosken/Projetos_Python/blob/aula-python/Numeros_primos.ipynb\" target=\"_parent\"><img src=\"https://colab.research.google.com/assets/colab-badge.svg\" alt=\"Open In Colab\"/></a>"
      ]
    },
    {
      "cell_type": "code",
      "execution_count": null,
      "metadata": {
        "colab": {
          "base_uri": "https://localhost:8080/"
        },
        "id": "u_v_T36Sku02",
        "outputId": "03df29d3-0104-4d7b-af21-f541311ac474"
      },
      "outputs": [
        {
          "ename": "",
          "evalue": "",
          "output_type": "error",
          "traceback": [
            "\u001b[1;31mA execução de células com 'Python 3.14.0' requer o pacote ipykernel.\n",
            "\u001b[1;31m<a href='command:jupyter.createPythonEnvAndSelectController'>Crie um ambiente Python</a> com os pacotes necessários.\n",
            "\u001b[1;31mOu instale 'ipykernel' usando o comando: 'c:/Users/TeuzinYTBR/AppData/Local/Programs/Python/Python314/python.exe -m pip install ipykernel -U --user --force-reinstall'"
          ]
        }
      ],
      "source": [
        "# numeros primos, por t.me/dieguesmosken\n",
        "numero = int(input(\"Digite um numero para saber se é primo: \"))\n",
        "divisores = []\n",
        "for i in range(1, numero+1):\n",
        "    if numero % i == 0:\n",
        "        divisores.append(i)\n",
        "if len(divisores) == 2:\n",
        "    print (\"O numero é primo divisivel por \",divisores)\n",
        "else:\n",
        "    print (\"O numero não é primo pois é divisivel por: \\n\",divisores)"
      ]
    }
  ],
  "metadata": {
    "colab": {
      "authorship_tag": "ABX9TyPlAcaWueXCGCFghAFQ3AnY",
      "include_colab_link": true,
      "provenance": []
    },
    "kernelspec": {
      "display_name": "Python 3",
      "name": "python3"
    },
    "language_info": {
      "name": "python",
      "version": "3.14.0"
    }
  },
  "nbformat": 4,
  "nbformat_minor": 0
}
