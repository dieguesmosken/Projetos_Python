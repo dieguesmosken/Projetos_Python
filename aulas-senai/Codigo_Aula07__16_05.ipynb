{
  "nbformat": 4,
  "nbformat_minor": 0,
  "metadata": {
    "colab": {
      "provenance": [],
      "authorship_tag": "ABX9TyP5nxIVsPWRJgH/23clc+y/",
      "include_colab_link": true
    },
    "kernelspec": {
      "name": "python3",
      "display_name": "Python 3"
    },
    "language_info": {
      "name": "python"
    }
  },
  "cells": [
    {
      "cell_type": "markdown",
      "metadata": {
        "id": "view-in-github",
        "colab_type": "text"
      },
      "source": [
        "<a href=\"https://colab.research.google.com/github/dieguesmosken/Projetos_Python/blob/aula-python/Codigo_Aula07__16_05.ipynb\" target=\"_parent\"><img src=\"https://colab.research.google.com/assets/colab-badge.svg\" alt=\"Open In Colab\"/></a>"
      ]
    },
    {
      "cell_type": "markdown",
      "source": [
        "### resolução jokenpo aula passada"
      ],
      "metadata": {
        "id": "N-5dJPh_1d3H"
      }
    },
    {
      "cell_type": "code",
      "source": [
        "import datetime\n",
        "import pytz\n",
        "#pytz.all_timezones \n",
        "# Obtém a data e hora atual\n",
        "agora = datetime.datetime.now()\n",
        "\n",
        "# Define o fuso horário para 'America/Sao_Paulo'\n",
        "fuso_horario = pytz.timezone('America/Sao_Paulo')\n",
        "\n",
        "# Converte a data e hora atual para o fuso horário 'America/Sao_Paulo'\n",
        "data_hora_sp = agora.astimezone(fuso_horario)\n",
        "\n",
        "# Formata a data e hora no formato desejado\n",
        "formato = '%d/%m/%Y %H:%M:%S'\n",
        "horario_formatado = data_hora_sp.strftime(formato)\n",
        "\n",
        "print(horario_formatado)\n"
      ],
      "metadata": {
        "colab": {
          "base_uri": "https://localhost:8080/"
        },
        "id": "LFEWipAX1igF",
        "outputId": "874e7c38-f843-4d8f-ab46-796ab121e75a"
      },
      "execution_count": null,
      "outputs": [
        {
          "output_type": "stream",
          "name": "stdout",
          "text": [
            "16/05/2023 21:05:03\n"
          ]
        }
      ]
    },
    {
      "cell_type": "code",
      "source": [
        "#funçoes\n",
        "import math\n",
        "def raiz_quadrada(x):\n",
        "    return math.sqrt(x)\n",
        "\n",
        "valor = int(input(\"informe um valor\"))\n",
        "raiz_quadrada(valor)"
      ],
      "metadata": {
        "colab": {
          "base_uri": "https://localhost:8080/"
        },
        "id": "4RkMimn5COxf",
        "outputId": "533150eb-fa7a-425a-db66-f3cef2ba0aca"
      },
      "execution_count": null,
      "outputs": [
        {
          "name": "stdout",
          "output_type": "stream",
          "text": [
            "informe um valor1524646435546456949596466\n"
          ]
        },
        {
          "output_type": "execute_result",
          "data": {
            "text/plain": [
              "1234765741161.641"
            ]
          },
          "metadata": {},
          "execution_count": 24
        }
      ]
    },
    {
      "cell_type": "code",
      "source": [
        "#função lambda( função anonima)\n",
        "# lambda { argumento}: {expressão}\n",
        "import math\n",
        "raiz_quadrada = lambda x: math.sqrt(x)\n",
        "valor = int(input(\"informe um valor \"))\n",
        "print(f\"A raiz quadrada de {valor} é: {raiz_quadrada(valor)}\")"
      ],
      "metadata": {
        "colab": {
          "base_uri": "https://localhost:8080/"
        },
        "id": "5rz2o8PODdKG",
        "outputId": "89eea133-8eea-4bdb-b46b-17f6916ebef7"
      },
      "execution_count": null,
      "outputs": [
        {
          "output_type": "stream",
          "name": "stdout",
          "text": [
            "informe um valor10\n",
            "A raiz quadrada de 10 é: 3.1622776601683795\n"
          ]
        }
      ]
    },
    {
      "cell_type": "code",
      "source": [
        "#Classe\n",
        "class mensagem:\n",
        "    def __init__(self, txt, id):\n",
        "        self.id = id\n",
        "        self.txt = txt\n",
        "nome = input(\"Insira um nome: \")\n",
        "texto = mensagem(\"Olá, \", nome)\n",
        "print(texto.txt)\n",
        "print(texto.id)\n",
        "print(texto.txt + texto.id+\"!\")"
      ],
      "metadata": {
        "colab": {
          "base_uri": "https://localhost:8080/"
        },
        "id": "aBXaK6zVFc6O",
        "outputId": "55c4550f-e2e0-41c3-e9b4-8e87ee2aa9ab"
      },
      "execution_count": null,
      "outputs": [
        {
          "output_type": "stream",
          "name": "stdout",
          "text": [
            "Insira um nome: Matheus\n",
            "Olá, \n",
            "Matheus\n",
            "Olá, Matheus!\n"
          ]
        }
      ]
    },
    {
      "cell_type": "markdown",
      "source": [
        "Realize o cubo dos valores da lista abaixo\n",
        "- [2,5,7,8,10,15,20]\n",
        "- utilizar função ou classe"
      ],
      "metadata": {
        "id": "VZw-BlkaHaLU"
      }
    },
    {
      "cell_type": "code",
      "source": [
        "import math\n",
        "#lista\n",
        "lista = [2,5,7,8,10,15,20]\n",
        "\n",
        "def cubo(valor):\n",
        "    for i in range(len(valor)):\n",
        "          print(math.pow(valor[i],3))\n",
        "\n",
        "cubo(lista)"
      ],
      "metadata": {
        "colab": {
          "base_uri": "https://localhost:8080/"
        },
        "id": "Gyuht9t3HY4e",
        "outputId": "9bf56761-de0f-4c73-c025-d742f93ae4b5"
      },
      "execution_count": null,
      "outputs": [
        {
          "output_type": "stream",
          "name": "stdout",
          "text": [
            "8.0\n",
            "125.0\n",
            "343.0\n",
            "512.0\n",
            "1000.0\n",
            "3375.0\n",
            "8000.0\n"
          ]
        }
      ]
    },
    {
      "cell_type": "code",
      "source": [
        "#lista\n",
        "import math\n",
        "lista = [2, 5, 7, 8, 10, 15, 20]\n",
        "cubos = list(map(lambda x: math.pow(x, 3), lista))\n",
        "print(cubos)\n"
      ],
      "metadata": {
        "colab": {
          "base_uri": "https://localhost:8080/"
        },
        "id": "GLZrhLRxKb2W",
        "outputId": "0311dfd8-e5ff-47f5-fc92-d50a50167a8b"
      },
      "execution_count": null,
      "outputs": [
        {
          "output_type": "stream",
          "name": "stdout",
          "text": [
            "[8.0, 125.0, 343.0, 512.0, 1000.0, 3375.0, 8000.0]\n"
          ]
        }
      ]
    }
  ]
}