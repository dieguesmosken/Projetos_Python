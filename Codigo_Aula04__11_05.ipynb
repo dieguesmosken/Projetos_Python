{
  "nbformat": 4,
  "nbformat_minor": 0,
  "metadata": {
    "colab": {
      "provenance": [],
      "authorship_tag": "ABX9TyMbPtQSHz5mSWUOZ1Hpgu77",
      "include_colab_link": true
    },
    "kernelspec": {
      "name": "python3",
      "display_name": "Python 3"
    },
    "language_info": {
      "name": "python"
    }
  },
  "cells": [
    {
      "cell_type": "markdown",
      "metadata": {
        "id": "view-in-github",
        "colab_type": "text"
      },
      "source": [
        "<a href=\"https://colab.research.google.com/github/dieguesmosken/Projetos_Python/blob/main/Codigo_Aula04__11_05.ipynb\" target=\"_parent\"><img src=\"https://colab.research.google.com/assets/colab-badge.svg\" alt=\"Open In Colab\"/></a>"
      ]
    },
    {
      "cell_type": "markdown",
      "source": [
        "### dia 11/05"
      ],
      "metadata": {
        "id": "3kCHOX9T4huK"
      }
    },
    {
      "cell_type": "code",
      "execution_count": 10,
      "metadata": {
        "colab": {
          "base_uri": "https://localhost:8080/"
        },
        "id": "RW6d8N2n3jyG",
        "outputId": "377e3f90-1f22-4132-e9b3-231e64caa937"
      },
      "outputs": [
        {
          "output_type": "stream",
          "name": "stdout",
          "text": [
            "Digite um número:1545\n",
            "o numero: 1545 é impar\n"
          ]
        }
      ],
      "source": [
        "num = int(input(\"Digite um número:\"))\n",
        "if num % 2 == 0:\n",
        "    print(f\"o numero: {num} é par\")\n",
        "else:\n",
        "    print(f\"o numero: {num} é impar\")"
      ]
    },
    {
      "cell_type": "code",
      "source": [
        "import math\n",
        "a = 2\n",
        "b = 4\n",
        "c = -6\n",
        "delta = math.pow(b, 2) - 4*a*c\n",
        "   \n",
        "x1 = (-b + math.sqrt(delta)) / (2.0*a) \n",
        "x2 = (-b - math.sqrt(delta)) / (2.0*a) \n",
        "\n",
        "print(f' as raizes da equação: {a}x²{b}x{c} são:')\n",
        "print(f' x1: {x1} e x2: {x2}')\n",
        "\n"
      ],
      "metadata": {
        "colab": {
          "base_uri": "https://localhost:8080/"
        },
        "outputId": "5aee7f23-8cf8-4408-fff8-2e85ba372f3d",
        "id": "DpuZINTX9XVf"
      },
      "execution_count": 8,
      "outputs": [
        {
          "output_type": "stream",
          "name": "stdout",
          "text": [
            " as raizes da equação: 2x²4x-6 são:\n",
            " x1: 1.0 e x2: -3.0\n"
          ]
        }
      ]
    },
    {
      "cell_type": "code",
      "source": [
        "#lista\n",
        "lista = [1,2,3,4,5,6]\n",
        "print(lista)\n",
        "lista.append(7)\n",
        "print(lista)\n",
        "lista.insert(3, 3.5)\n",
        "print(lista)\n",
        "#para remover\n",
        "\n",
        "lista.pop(3) # indica a posição posição\n",
        "lista.remove(7) # especifica o valor a ser removido\n",
        "print(lista)\n",
        "del lista[0] # deleta um elemento na posição 0\n",
        "print(lista)"
      ],
      "metadata": {
        "colab": {
          "base_uri": "https://localhost:8080/"
        },
        "id": "bT7g0dAcEdGb",
        "outputId": "63446558-5a51-404f-9754-cbae9b6ebd19"
      },
      "execution_count": 22,
      "outputs": [
        {
          "output_type": "stream",
          "name": "stdout",
          "text": [
            "[1, 2, 3, 4, 5, 6]\n",
            "[1, 2, 3, 4, 5, 6, 7]\n",
            "[1, 2, 3, 3.5, 4, 5, 6, 7]\n",
            "[1, 2, 3, 4, 5, 6]\n"
          ]
        }
      ]
    },
    {
      "cell_type": "code",
      "source": [
        "#set\n",
        "Set = {1,2,3,4,5,6}\n",
        "print(Set)\n",
        "Set.add(7)\n",
        "print(Set)\n",
        "Set.remove(3.5)\n",
        "Set.discard(4.1)\n"
      ],
      "metadata": {
        "colab": {
          "base_uri": "https://localhost:8080/"
        },
        "id": "CPj8aPQEGzvZ",
        "outputId": "c0463c76-268d-408f-fccd-e380a2f023af"
      },
      "execution_count": 20,
      "outputs": [
        {
          "output_type": "stream",
          "name": "stdout",
          "text": [
            "{1, 2, 3, 4, 5, 6}\n",
            "{1, 2, 3, 4, 5, 6, 7}\n"
          ]
        }
      ]
    },
    {
      "cell_type": "code",
      "source": [
        "#Tupla\n",
        "Set = {1,2,3,4,5,6}\n",
        "print(Set)\n",
        "Set.add(7)\n",
        "print(Set)\n"
      ],
      "metadata": {
        "id": "zlzG2ebFI1F4"
      },
      "execution_count": null,
      "outputs": []
    },
    {
      "cell_type": "code",
      "source": [
        "#soma\n",
        "soma_da_lista = sum(lista)\n",
        "soma_do_set = sum(Set)\n",
        "print(f'A soma da lista é {soma_da_lista}')\n",
        "print(f'A soma do Set é {soma_do_set}')"
      ],
      "metadata": {
        "colab": {
          "base_uri": "https://localhost:8080/"
        },
        "id": "38T2b_1QTb_F",
        "outputId": "fb1a663c-6bcf-48e7-8b1e-36a45750d3f3"
      },
      "execution_count": 28,
      "outputs": [
        {
          "output_type": "stream",
          "name": "stdout",
          "text": [
            "A soma da lista é 21\n",
            "A soma do Set é 28\n"
          ]
        }
      ]
    },
    {
      "cell_type": "code",
      "source": [
        "#maximo e minimo\n",
        "máximo_da_lista = max(lista)\n",
        "mínimo_da_lista = min(lista)\n",
        "\n",
        "máximo_do_set = max(Set)\n",
        "mínimo_do_set = min(Set)\n",
        "\n",
        "print(f'''O maior valor da lista é {máximo_da_lista}\n",
        "e o menor valor da lista é {mínimo_da_lista}''')\n",
        "print(f'O maior valor do Set é {máximo_do_set} \\ne o menor valor do Set é {mínimo_do_set}')\n"
      ],
      "metadata": {
        "colab": {
          "base_uri": "https://localhost:8080/"
        },
        "id": "hJbtzcKTT-vN",
        "outputId": "ad397350-e7fc-4049-bff5-0aafec258129"
      },
      "execution_count": 34,
      "outputs": [
        {
          "output_type": "stream",
          "name": "stdout",
          "text": [
            "O maior valor da lista é 6\n",
            "e o menor valor da lista é 1\n",
            "O maior valor do Set é 6 \n",
            "e o menor valor do Set é 1\n"
          ]
        }
      ]
    },
    {
      "cell_type": "code",
      "source": [
        "lista = [1,2,3,4,5,6]\n",
        "Set = {1,2,3,4,5,6}\n",
        "print(f'A lista possui: {len(lista)} elementos')\n",
        "print(f'O Set possui: {len(Set)} elementos')"
      ],
      "metadata": {
        "colab": {
          "base_uri": "https://localhost:8080/"
        },
        "id": "dE1w74UCV0D8",
        "outputId": "8ccfa078-5c17-4a31-c959-e4f1b2698bc6"
      },
      "execution_count": 33,
      "outputs": [
        {
          "output_type": "stream",
          "name": "stdout",
          "text": [
            "A lista possui: 6 elementos\n",
            "O Set possui: 6 elementos\n"
          ]
        }
      ]
    },
    {
      "cell_type": "code",
      "source": [
        "listanum = [1,2,3,4,5,6,7,8,9,10,11,12,13,14,15]\n",
        "#maximo e minimo\n",
        "soma = sum(lista)\n",
        "máximo = max(listanum)\n",
        "mínimo = min(listanum)\n",
        "print(f'A soma da lista é {soma}')\n",
        "print(f'''O maior valor da lista é {máximo}\n",
        "e o menor valor da lista é {mínimo}''')\n",
        "\n",
        "for x in range(7):\n",
        "    listanum.append(x+1)\n",
        "\n",
        "print(listanum)\n",
        "\n",
        "listanum.pop(0)\n",
        "listanum.pop(2)\n",
        "listanum.pop(7)\n",
        "\n",
        "print(listanum)"
      ],
      "metadata": {
        "colab": {
          "base_uri": "https://localhost:8080/"
        },
        "id": "edn1kuiwZVP7",
        "outputId": "9b186461-d595-479e-9824-fae890be6a3f"
      },
      "execution_count": 41,
      "outputs": [
        {
          "output_type": "stream",
          "name": "stdout",
          "text": [
            "A soma da lista é 8\n",
            "O maior valor da lista é 15\n",
            "e o menor valor da lista é 1\n",
            "[1, 2, 3, 4, 5, 6, 7, 8, 9, 10, 11, 12, 13, 14, 15, 1, 2, 3, 4, 5, 6, 7]\n",
            "[2, 3, 5, 6, 7, 8, 9, 11, 12, 13, 14, 15, 1, 2, 3, 4, 5, 6, 7]\n"
          ]
        }
      ]
    }
  ]
}