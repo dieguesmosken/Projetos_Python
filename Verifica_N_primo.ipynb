{
  "nbformat": 4,
  "nbformat_minor": 0,
  "metadata": {
    "colab": {
      "provenance": [],
      "authorship_tag": "ABX9TyO6f6JJP7SzHzpan3ABfsg0",
      "include_colab_link": true
    },
    "kernelspec": {
      "name": "python3",
      "display_name": "Python 3"
    },
    "language_info": {
      "name": "python"
    }
  },
  "cells": [
    {
      "cell_type": "markdown",
      "metadata": {
        "id": "view-in-github",
        "colab_type": "text"
      },
      "source": [
        "<a href=\"https://colab.research.google.com/github/dieguesmosken/Projetos_Python/blob/main/Verifica_N_primo.ipynb\" target=\"_parent\"><img src=\"https://colab.research.google.com/assets/colab-badge.svg\" alt=\"Open In Colab\"/></a>"
      ]
    },
    {
      "cell_type": "code",
      "execution_count": 12,
      "metadata": {
        "colab": {
          "base_uri": "https://localhost:8080/"
        },
        "id": "2BDe1DE9mMfE",
        "outputId": "f80d9193-27a7-4150-86de-15fadfd0f54b"
      },
      "outputs": [
        {
          "output_type": "stream",
          "name": "stdout",
          "text": [
            "Digite um número inteiro positivo: 109\n",
            "O número 109 é primo.\n"
          ]
        }
      ],
      "source": [
        "import math\n",
        "\n",
        "def verificar_primo(numero):\n",
        "    if numero <= 1:\n",
        "        return False\n",
        "\n",
        "    for i in range(2, int(math.sqrt(numero)) + 1):\n",
        "        if numero % i == 0:\n",
        "            return False\n",
        "\n",
        "    return True\n",
        "\n",
        "def encontrar_divisores(numero):\n",
        "    divisores = []\n",
        "    for i in range(1, numero + 1):\n",
        "        if numero % i == 0:\n",
        "            divisores.append(i)\n",
        "\n",
        "    return divisores\n",
        "\n",
        "def main():\n",
        "    numero = int(input(\"Digite um número inteiro positivo: \"))\n",
        "\n",
        "    if verificar_primo(numero):\n",
        "        print(f\"O número {numero} é primo.\")\n",
        "    else:\n",
        "        print(f\"O número {numero} não é primo. Divisores: {encontrar_divisores(numero)}\")\n",
        "\n",
        "if __name__ == \"__main__\":\n",
        "    main()"
      ]
    }
  ]
}