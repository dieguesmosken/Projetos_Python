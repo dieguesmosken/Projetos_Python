{
  "nbformat": 4,
  "nbformat_minor": 0,
  "metadata": {
    "colab": {
      "provenance": [],
      "authorship_tag": "ABX9TyPY76pJ3ildunbLJZhPMpus",
      "include_colab_link": true
    },
    "kernelspec": {
      "name": "python3",
      "display_name": "Python 3"
    },
    "language_info": {
      "name": "python"
    }
  },
  "cells": [
    {
      "cell_type": "markdown",
      "metadata": {
        "id": "view-in-github",
        "colab_type": "text"
      },
      "source": [
        "<a href=\"https://colab.research.google.com/github/dieguesmosken/Projetos_Python/blob/main/Codigo_Aula03_10_05.ipynb\" target=\"_parent\"><img src=\"https://colab.research.google.com/assets/colab-badge.svg\" alt=\"Open In Colab\"/></a>"
      ]
    },
    {
      "cell_type": "markdown",
      "source": [
        "### Data: 10/05/2023\n",
        "\n",
        "---\n",
        "\n",
        "\n",
        "IF,ELIF, ELSE;\n",
        "importação de bibliotecas"
      ],
      "metadata": {
        "id": "5WY1HU28tPUV"
      }
    },
    {
      "cell_type": "code",
      "source": [
        "#cria variavel temperatura e insere a temperatura\n",
        "temp = float(input(\"Insira uma temperatura: \"))\n",
        "if temp < 15:\n",
        "    print(\"Temperatura Fria.\")\n",
        "elif temp >= 15 and temp <= 25:\n",
        "    print(\"Temperatura Amena.\")\n",
        "else:\n",
        "    print(\"temperatura Quente.\")\n"
      ],
      "metadata": {
        "colab": {
          "base_uri": "https://localhost:8080/"
        },
        "id": "1OJkEBrstX3-",
        "outputId": "46acbc33-5b4d-4041-b584-c0c95220f9da"
      },
      "execution_count": null,
      "outputs": [
        {
          "output_type": "stream",
          "name": "stdout",
          "text": [
            "Insira uma temperatura: 2\n",
            "Temperatura Fria.\n"
          ]
        }
      ]
    },
    {
      "cell_type": "markdown",
      "source": [
        "---\n",
        "* ph >= 0 e < 7 : acido\n",
        "* ph = 7 : neutro\n",
        "* ph > 7 e <=14 : alcalino\n"
      ],
      "metadata": {
        "id": "rOp9SWF71GkJ"
      }
    },
    {
      "cell_type": "code",
      "source": [
        "#cria variavel ph \n",
        "ph = float(input(\"Insira um pH: \"))\n",
        "if ph >= 0 and ph < 7:\n",
        "    print(\"PH Ácido.\")\n",
        "elif ph > 7 and ph <= 14:\n",
        "    print(\"PH Alcalino.\")\n",
        "elif ph == 7:\n",
        "    print(\"PH Neutro.\")\n",
        "else:\n",
        "    print(\"o valor inserido não esta entre 0 e 14\")\n"
      ],
      "metadata": {
        "colab": {
          "base_uri": "https://localhost:8080/"
        },
        "outputId": "3640417a-b63f-46da-e60a-936838c7ace9",
        "id": "IX8cHBFa1TK6"
      },
      "execution_count": null,
      "outputs": [
        {
          "output_type": "stream",
          "name": "stdout",
          "text": [
            "Insira um pH: 20\n",
            "o valor inserido não esta entre 0 e 14\n"
          ]
        }
      ]
    },
    {
      "cell_type": "code",
      "source": [
        "import math\n",
        "valor_de_pi = math.pi\n",
        "print(valor_de_pi)\n"
      ],
      "metadata": {
        "colab": {
          "base_uri": "https://localhost:8080/"
        },
        "id": "0cSjPK9SGNwS",
        "outputId": "48884bdd-fdf4-45f5-af2c-acde446f28cc"
      },
      "execution_count": 22,
      "outputs": [
        {
          "output_type": "stream",
          "name": "stdout",
          "text": [
            "3.141592653589793\n"
          ]
        }
      ]
    },
    {
      "cell_type": "code",
      "source": [
        "import math\n",
        "raio = float(input(\"Insira o raio \"))\n",
        "altura = float(input(\"Insira a altura: \"))\n",
        "vol_cil = (math.pi*pow(raio, 2))*altura\n",
        "# exibe o volume formatado em duas casa decimais e substitui o ponto pela virgula\n",
        "print(f\"O volume do cilindro é: {vol_cil:.2f} m³\".replace(\".\",\",\"))"
      ],
      "metadata": {
        "colab": {
          "base_uri": "https://localhost:8080/"
        },
        "id": "k2T7d9ovG5h6",
        "outputId": "89f35284-5346-4901-cf0e-051d1fcc4162"
      },
      "execution_count": 28,
      "outputs": [
        {
          "output_type": "stream",
          "name": "stdout",
          "text": [
            "Insira o raio 1\n",
            "Insira a altura: 2\n",
            "O volume do cilindro é: 6,28 m³\n"
          ]
        }
      ]
    },
    {
      "cell_type": "markdown",
      "source": [
        "2x² + 4x-6 = 0\n",
        "\n",
        "criar uma formula que acha o valor de x que zera a equação"
      ],
      "metadata": {
        "id": "bxFHaXWsQrqt"
      }
    },
    {
      "cell_type": "code",
      "source": [],
      "metadata": {
        "id": "WsfHy95GQqMm"
      },
      "execution_count": null,
      "outputs": []
    }
  ]
}