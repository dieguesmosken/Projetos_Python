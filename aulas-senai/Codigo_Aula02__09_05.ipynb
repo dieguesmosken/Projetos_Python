{
  "nbformat": 4,
  "nbformat_minor": 0,
  "metadata": {
    "colab": {
      "provenance": [],
      "authorship_tag": "ABX9TyOcPH91YDKwryGNm56c5vnJ",
      "include_colab_link": true
    },
    "kernelspec": {
      "name": "python3",
      "display_name": "Python 3"
    },
    "language_info": {
      "name": "python"
    }
  },
  "cells": [
    {
      "cell_type": "markdown",
      "metadata": {
        "id": "view-in-github",
        "colab_type": "text"
      },
      "source": [
        "<a href=\"https://colab.research.google.com/github/dieguesmosken/Projetos_Python/blob/main/Codigo_Aula02__09_05.ipynb\" target=\"_parent\"><img src=\"https://colab.research.google.com/assets/colab-badge.svg\" alt=\"Open In Colab\"/></a>"
      ]
    },
    {
      "cell_type": "markdown",
      "source": [
        "### **09/05**\n",
        "Revisão e novos conteúdos"
      ],
      "metadata": {
        "id": "z39EFEG_ljGq"
      }
    },
    {
      "cell_type": "markdown",
      "source": [
        "* Tipos de Variáveis; \n",
        "* operadores: \n",
        "* matematicos,\n",
        "* comparação, \n",
        "* lógicos, \n",
        "* identidade,\n",
        "* associação\n"
      ],
      "metadata": {
        "id": "HqNE7dHnmsRe"
      }
    },
    {
      "cell_type": "code",
      "source": [
        "# foi criada uma variável chamada \"var1\" e atríbuido um valor\n",
        "var1 = 23\n",
        "print(var1)\n",
        "# print serve para exibir o conteúdo"
      ],
      "metadata": {
        "colab": {
          "base_uri": "https://localhost:8080/"
        },
        "id": "cP7PQCHNoB4F",
        "outputId": "f6783ca3-2859-4cd5-843f-936ac540b535"
      },
      "execution_count": 2,
      "outputs": [
        {
          "output_type": "stream",
          "name": "stdout",
          "text": [
            "23\n"
          ]
        }
      ]
    },
    {
      "cell_type": "code",
      "source": [
        "# descobrindo o tipo da variável\n",
        "print(type(var1))"
      ],
      "metadata": {
        "colab": {
          "base_uri": "https://localhost:8080/"
        },
        "id": "xM34TuHMrwV8",
        "outputId": "b443b8a9-7c15-45a7-afff-c261a03c83c2"
      },
      "execution_count": 3,
      "outputs": [
        {
          "output_type": "stream",
          "name": "stdout",
          "text": [
            "<class 'int'>\n"
          ]
        }
      ]
    },
    {
      "cell_type": "code",
      "source": [
        "# para a variável valor insira um dado, e defina este dado como inteiro\n",
        "valor = int(input(\"Insira algo:\"))\n",
        "print(type(valor))\n",
        "# operação de soma do valor + 2\n",
        "resultado = valor + 2\n",
        "# exibindo o resultado formatado\n",
        "print(f\"o resultado é: {resultado}\"+ \" o valor é: \"+str(valor))"
      ],
      "metadata": {
        "colab": {
          "base_uri": "https://localhost:8080/"
        },
        "id": "k3h_3Tmos0t8",
        "outputId": "148ce1c9-5501-4c18-8cb1-15d445b394be"
      },
      "execution_count": 15,
      "outputs": [
        {
          "output_type": "stream",
          "name": "stdout",
          "text": [
            "Insira algo:10\n",
            "<class 'int'>\n",
            "o resultado é: 12 o valor é: 10\n"
          ]
        }
      ]
    },
    {
      "cell_type": "code",
      "source": [
        "Nome = input(\"Insira um nome:\")\n",
        "print(f'Boa noite, {Nome}!')"
      ],
      "metadata": {
        "colab": {
          "base_uri": "https://localhost:8080/"
        },
        "id": "taiLrmj_wrzk",
        "outputId": "cea2f8c2-c84b-4db5-eeee-a0c7ea60bb7f"
      },
      "execution_count": 16,
      "outputs": [
        {
          "output_type": "stream",
          "name": "stdout",
          "text": [
            "Insira um nome:matheus\n",
            "Boa noite, matheus!\n"
          ]
        }
      ]
    },
    {
      "cell_type": "code",
      "source": [
        "'''as casas decimais podem\n",
        "ser arredondadas com\n",
        "string format'''\n",
        "a = 7.779865\n",
        "print(round(a,2))"
      ],
      "metadata": {
        "colab": {
          "base_uri": "https://localhost:8080/"
        },
        "id": "yyvAbnJ5zoYK",
        "outputId": "9d66da83-709a-4419-876c-a9edcd634668"
      },
      "execution_count": 18,
      "outputs": [
        {
          "output_type": "stream",
          "name": "stdout",
          "text": [
            "7.78\n"
          ]
        }
      ]
    },
    {
      "cell_type": "code",
      "source": [
        "\"\"\"valor1 = 10\n",
        "valor2 = 5\"\"\"\n",
        "valor1 = int(input(\"digite o valor 1: \"))\n",
        "valor2 = int(input(\"digite o valor 2: \"))\n",
        "#operação soma\n",
        "soma = valor1+valor2\n",
        "print(f'A soma das variáveis é {soma:.2f}')\n",
        "#subtração\n",
        "sub = valor1 - valor2\n",
        "print(f'A subtração das variáveis é {sub}')\n",
        "#Multiplicação\n",
        "mult = valor1 * valor2\n",
        "print(f'A Multiplicação das variáveis é {mult}')\n",
        "#divisão\n",
        "divi = valor1 / valor2\n",
        "print(f'A Divisão das variáveis é {divi:.2f}')\n",
        "divi2 = valor1 // valor2\n",
        "print(f'O valor inteiro da divisão é {divi2:.2f}')\n",
        "divi3 = valor1 % valor2\n",
        "print(f'O resto da divisão é  {divi3}')"
      ],
      "metadata": {
        "colab": {
          "base_uri": "https://localhost:8080/"
        },
        "id": "7ri7O7oK0xJy",
        "outputId": "d2c1e200-4de1-4245-a06b-da983885dade"
      },
      "execution_count": 27,
      "outputs": [
        {
          "output_type": "stream",
          "name": "stdout",
          "text": [
            "digite o valor 1: 100\n",
            "digite o valor 2: 45\n",
            "A soma das variáveis é 145.00\n",
            "A subtração das variáveis é 55\n",
            "A Multiplicação das variáveis é 4500\n",
            "A Divisão das variáveis é 2.22\n",
            "O valor inteiro da divisão é 2.00\n",
            "O resto da divisão é  10\n"
          ]
        }
      ]
    },
    {
      "cell_type": "markdown",
      "source": [],
      "metadata": {
        "id": "aOTOBi_hwHyz"
      }
    },
    {
      "cell_type": "code",
      "source": [
        "valor3 = 5\n",
        "valor4 = 2\n",
        "#potenciação\n",
        "#result = pow(valor3, valor4)\n",
        "result = valor3 ** valor4\n",
        "print(f'O resultado da operação é: {result}')"
      ],
      "metadata": {
        "colab": {
          "base_uri": "https://localhost:8080/"
        },
        "id": "_LVXVjAG_kzO",
        "outputId": "b84858e9-e789-4fd9-f774-8bcf917de270"
      },
      "execution_count": 30,
      "outputs": [
        {
          "output_type": "stream",
          "name": "stdout",
          "text": [
            "O resultado da operação é: 25\n"
          ]
        }
      ]
    },
    {
      "cell_type": "code",
      "source": [
        "#operadores de comparação\n",
        "var1 = int(input(\"val1:\"))\n",
        "var2 = int(input(\"val2:\"))\n",
        "print(var1 != var2)\n",
        "\n",
        "#operadores de lógicos\n",
        "if var1 != var2:\n",
        "  print(\"diferente\")\n",
        "else:\n",
        "  print(\"igual\")"
      ],
      "metadata": {
        "colab": {
          "base_uri": "https://localhost:8080/"
        },
        "id": "8BPHd-FoA0ie",
        "outputId": "647c375a-c2b5-488f-f3ad-d6f8f9630a0a"
      },
      "execution_count": 41,
      "outputs": [
        {
          "output_type": "stream",
          "name": "stdout",
          "text": [
            "val1:10\n",
            "val2:10\n",
            "False\n",
            "igual\n"
          ]
        }
      ]
    },
    {
      "cell_type": "code",
      "source": [
        "# operadores de associação\n",
        "valor = int(input(\"informe um valor\"))\n",
        "# o valor\n",
        "print(valor is 10)\n",
        "print(valor is not 10)"
      ],
      "metadata": {
        "colab": {
          "base_uri": "https://localhost:8080/"
        },
        "id": "b9-0U-aDFHRt",
        "outputId": "f19ca15e-aabc-4795-ed8e-c0b0b0bbf5b5"
      },
      "execution_count": 52,
      "outputs": [
        {
          "output_type": "stream",
          "name": "stderr",
          "text": [
            "<>:3: SyntaxWarning: \"is\" with a literal. Did you mean \"==\"?\n",
            "<>:4: SyntaxWarning: \"is not\" with a literal. Did you mean \"!=\"?\n",
            "<>:3: SyntaxWarning: \"is\" with a literal. Did you mean \"==\"?\n",
            "<>:4: SyntaxWarning: \"is not\" with a literal. Did you mean \"!=\"?\n"
          ]
        },
        {
          "output_type": "stream",
          "name": "stdout",
          "text": [
            "informe um valor30\n",
            "False\n",
            "True\n"
          ]
        },
        {
          "output_type": "stream",
          "name": "stderr",
          "text": [
            "<ipython-input-52-f8412360b5c3>:3: SyntaxWarning: \"is\" with a literal. Did you mean \"==\"?\n",
            "  print(valor is 10)\n",
            "<ipython-input-52-f8412360b5c3>:4: SyntaxWarning: \"is not\" with a literal. Did you mean \"!=\"?\n",
            "  print(valor is not 10)\n"
          ]
        }
      ]
    },
    {
      "cell_type": "code",
      "source": [
        "# lista de números\n",
        "valores = [1,2,3,4,5,6,7,8,9,10]\n",
        "print(20 in valores)\n",
        "print(20 not in valores)"
      ],
      "metadata": {
        "colab": {
          "base_uri": "https://localhost:8080/"
        },
        "id": "Re6Y1NMrIE_z",
        "outputId": "fa2efd23-c172-488e-9643-d91fe80c938d"
      },
      "execution_count": 53,
      "outputs": [
        {
          "output_type": "stream",
          "name": "stdout",
          "text": [
            "False\n",
            "True\n"
          ]
        }
      ]
    },
    {
      "cell_type": "code",
      "source": [],
      "metadata": {
        "id": "qq79NrgYJlY3"
      },
      "execution_count": null,
      "outputs": []
    }
  ]
}